{
  "cells": [
    {
      "cell_type": "markdown",
      "metadata": {
        "id": "AGcPk6SDVqMD"
      },
      "source": [
        "## Laboratorio. Árboles y random forest para clasificación"
      ]
    },
    {
      "cell_type": "markdown",
      "metadata": {
        "id": "B1aH0LB9VqMF"
      },
      "source": [
        "## Librerías utilizadas"
      ]
    },
    {
      "cell_type": "code",
      "execution_count": 1,
      "metadata": {
        "colab": {
          "base_uri": "https://localhost:8080/"
        },
        "id": "pPkxyWDCVqMF",
        "outputId": "e60d8cd0-e131-47a0-9aa6-3b06ba7f36b4"
      },
      "outputs": [
        {
          "output_type": "stream",
          "name": "stdout",
          "text": [
            "Drive already mounted at /content/drive; to attempt to forcibly remount, call drive.mount(\"/content/drive\", force_remount=True).\n"
          ]
        }
      ],
      "source": [
        "import pandas as pd\n",
        "import numpy as np\n",
        "import matplotlib.pyplot as plt\n",
        "from sklearn.tree import plot_tree\n",
        "from sklearn import preprocessing\n",
        "from sklearn.model_selection import train_test_split\n",
        "from sklearn.metrics import mean_squared_error\n",
        "from sklearn.metrics import mean_absolute_error\n",
        "from sklearn.metrics import r2_score\n",
        "from sklearn.tree import DecisionTreeRegressor,DecisionTreeClassifier\n",
        "from sklearn.ensemble import RandomForestRegressor,RandomForestClassifier\n",
        "from sklearn.model_selection import learning_curve\n",
        "from sklearn.model_selection import ShuffleSplit\n",
        "from sklearn.model_selection import cross_val_score\n",
        "from sklearn.metrics import classification_report\n",
        "from sklearn.metrics import confusion_matrix\n",
        "from sklearn.model_selection import KFold\n",
        "\n",
        "from google.colab import drive\n",
        "drive.mount('/content/drive')"
      ]
    },
    {
      "cell_type": "markdown",
      "metadata": {
        "id": "4UuDekgmVqMG"
      },
      "source": []
    },
    {
      "cell_type": "code",
      "execution_count": 2,
      "metadata": {
        "id": "vL4a_FiGVqMG"
      },
      "outputs": [],
      "source": [
        "semilla_aleatoria = 1234"
      ]
    },
    {
      "cell_type": "markdown",
      "metadata": {
        "id": "z6vx-coCVqMH"
      },
      "source": [
        "# 1.- Leer los datos del archivo pima-indians-diabetes.csv"
      ]
    },
    {
      "cell_type": "code",
      "execution_count": 3,
      "metadata": {
        "colab": {
          "base_uri": "https://localhost:8080/",
          "height": 226
        },
        "id": "qG_skMUUVqMH",
        "outputId": "0dce4dc0-063e-4f7f-83b9-d67d787cc34b"
      },
      "outputs": [
        {
          "output_type": "display_data",
          "data": {
            "text/plain": [
              "   nEmbarazos  concentracionGlucosa  presionArterialSistolica  pliegueCutaneo  \\\n",
              "0           6                   148                        72              35   \n",
              "1           1                    85                        66              29   \n",
              "2           8                   183                        64               0   \n",
              "3           1                    89                        66              23   \n",
              "4           0                   137                        40              35   \n",
              "\n",
              "   insulinaSerica   IMC  funcionPediDiabe  edad  diabetes  \n",
              "0               0  33.6             0.627    50         1  \n",
              "1               0  26.6             0.351    31         0  \n",
              "2               0  23.3             0.672    32         1  \n",
              "3              94  28.1             0.167    21         0  \n",
              "4             168  43.1             2.288    33         1  "
            ],
            "text/html": [
              "\n",
              "  <div id=\"df-d66ee885-33f0-4dc7-901e-8bfb63edca18\" class=\"colab-df-container\">\n",
              "    <div>\n",
              "<style scoped>\n",
              "    .dataframe tbody tr th:only-of-type {\n",
              "        vertical-align: middle;\n",
              "    }\n",
              "\n",
              "    .dataframe tbody tr th {\n",
              "        vertical-align: top;\n",
              "    }\n",
              "\n",
              "    .dataframe thead th {\n",
              "        text-align: right;\n",
              "    }\n",
              "</style>\n",
              "<table border=\"1\" class=\"dataframe\">\n",
              "  <thead>\n",
              "    <tr style=\"text-align: right;\">\n",
              "      <th></th>\n",
              "      <th>nEmbarazos</th>\n",
              "      <th>concentracionGlucosa</th>\n",
              "      <th>presionArterialSistolica</th>\n",
              "      <th>pliegueCutaneo</th>\n",
              "      <th>insulinaSerica</th>\n",
              "      <th>IMC</th>\n",
              "      <th>funcionPediDiabe</th>\n",
              "      <th>edad</th>\n",
              "      <th>diabetes</th>\n",
              "    </tr>\n",
              "  </thead>\n",
              "  <tbody>\n",
              "    <tr>\n",
              "      <th>0</th>\n",
              "      <td>6</td>\n",
              "      <td>148</td>\n",
              "      <td>72</td>\n",
              "      <td>35</td>\n",
              "      <td>0</td>\n",
              "      <td>33.6</td>\n",
              "      <td>0.627</td>\n",
              "      <td>50</td>\n",
              "      <td>1</td>\n",
              "    </tr>\n",
              "    <tr>\n",
              "      <th>1</th>\n",
              "      <td>1</td>\n",
              "      <td>85</td>\n",
              "      <td>66</td>\n",
              "      <td>29</td>\n",
              "      <td>0</td>\n",
              "      <td>26.6</td>\n",
              "      <td>0.351</td>\n",
              "      <td>31</td>\n",
              "      <td>0</td>\n",
              "    </tr>\n",
              "    <tr>\n",
              "      <th>2</th>\n",
              "      <td>8</td>\n",
              "      <td>183</td>\n",
              "      <td>64</td>\n",
              "      <td>0</td>\n",
              "      <td>0</td>\n",
              "      <td>23.3</td>\n",
              "      <td>0.672</td>\n",
              "      <td>32</td>\n",
              "      <td>1</td>\n",
              "    </tr>\n",
              "    <tr>\n",
              "      <th>3</th>\n",
              "      <td>1</td>\n",
              "      <td>89</td>\n",
              "      <td>66</td>\n",
              "      <td>23</td>\n",
              "      <td>94</td>\n",
              "      <td>28.1</td>\n",
              "      <td>0.167</td>\n",
              "      <td>21</td>\n",
              "      <td>0</td>\n",
              "    </tr>\n",
              "    <tr>\n",
              "      <th>4</th>\n",
              "      <td>0</td>\n",
              "      <td>137</td>\n",
              "      <td>40</td>\n",
              "      <td>35</td>\n",
              "      <td>168</td>\n",
              "      <td>43.1</td>\n",
              "      <td>2.288</td>\n",
              "      <td>33</td>\n",
              "      <td>1</td>\n",
              "    </tr>\n",
              "  </tbody>\n",
              "</table>\n",
              "</div>\n",
              "    <div class=\"colab-df-buttons\">\n",
              "\n",
              "  <div class=\"colab-df-container\">\n",
              "    <button class=\"colab-df-convert\" onclick=\"convertToInteractive('df-d66ee885-33f0-4dc7-901e-8bfb63edca18')\"\n",
              "            title=\"Convert this dataframe to an interactive table.\"\n",
              "            style=\"display:none;\">\n",
              "\n",
              "  <svg xmlns=\"http://www.w3.org/2000/svg\" height=\"24px\" viewBox=\"0 -960 960 960\">\n",
              "    <path d=\"M120-120v-720h720v720H120Zm60-500h600v-160H180v160Zm220 220h160v-160H400v160Zm0 220h160v-160H400v160ZM180-400h160v-160H180v160Zm440 0h160v-160H620v160ZM180-180h160v-160H180v160Zm440 0h160v-160H620v160Z\"/>\n",
              "  </svg>\n",
              "    </button>\n",
              "\n",
              "  <style>\n",
              "    .colab-df-container {\n",
              "      display:flex;\n",
              "      gap: 12px;\n",
              "    }\n",
              "\n",
              "    .colab-df-convert {\n",
              "      background-color: #E8F0FE;\n",
              "      border: none;\n",
              "      border-radius: 50%;\n",
              "      cursor: pointer;\n",
              "      display: none;\n",
              "      fill: #1967D2;\n",
              "      height: 32px;\n",
              "      padding: 0 0 0 0;\n",
              "      width: 32px;\n",
              "    }\n",
              "\n",
              "    .colab-df-convert:hover {\n",
              "      background-color: #E2EBFA;\n",
              "      box-shadow: 0px 1px 2px rgba(60, 64, 67, 0.3), 0px 1px 3px 1px rgba(60, 64, 67, 0.15);\n",
              "      fill: #174EA6;\n",
              "    }\n",
              "\n",
              "    .colab-df-buttons div {\n",
              "      margin-bottom: 4px;\n",
              "    }\n",
              "\n",
              "    [theme=dark] .colab-df-convert {\n",
              "      background-color: #3B4455;\n",
              "      fill: #D2E3FC;\n",
              "    }\n",
              "\n",
              "    [theme=dark] .colab-df-convert:hover {\n",
              "      background-color: #434B5C;\n",
              "      box-shadow: 0px 1px 3px 1px rgba(0, 0, 0, 0.15);\n",
              "      filter: drop-shadow(0px 1px 2px rgba(0, 0, 0, 0.3));\n",
              "      fill: #FFFFFF;\n",
              "    }\n",
              "  </style>\n",
              "\n",
              "    <script>\n",
              "      const buttonEl =\n",
              "        document.querySelector('#df-d66ee885-33f0-4dc7-901e-8bfb63edca18 button.colab-df-convert');\n",
              "      buttonEl.style.display =\n",
              "        google.colab.kernel.accessAllowed ? 'block' : 'none';\n",
              "\n",
              "      async function convertToInteractive(key) {\n",
              "        const element = document.querySelector('#df-d66ee885-33f0-4dc7-901e-8bfb63edca18');\n",
              "        const dataTable =\n",
              "          await google.colab.kernel.invokeFunction('convertToInteractive',\n",
              "                                                    [key], {});\n",
              "        if (!dataTable) return;\n",
              "\n",
              "        const docLinkHtml = 'Like what you see? Visit the ' +\n",
              "          '<a target=\"_blank\" href=https://colab.research.google.com/notebooks/data_table.ipynb>data table notebook</a>'\n",
              "          + ' to learn more about interactive tables.';\n",
              "        element.innerHTML = '';\n",
              "        dataTable['output_type'] = 'display_data';\n",
              "        await google.colab.output.renderOutput(dataTable, element);\n",
              "        const docLink = document.createElement('div');\n",
              "        docLink.innerHTML = docLinkHtml;\n",
              "        element.appendChild(docLink);\n",
              "      }\n",
              "    </script>\n",
              "  </div>\n",
              "\n",
              "\n",
              "<div id=\"df-d0833137-7621-4289-b838-e37bcfe37d48\">\n",
              "  <button class=\"colab-df-quickchart\" onclick=\"quickchart('df-d0833137-7621-4289-b838-e37bcfe37d48')\"\n",
              "            title=\"Suggest charts\"\n",
              "            style=\"display:none;\">\n",
              "\n",
              "<svg xmlns=\"http://www.w3.org/2000/svg\" height=\"24px\"viewBox=\"0 0 24 24\"\n",
              "     width=\"24px\">\n",
              "    <g>\n",
              "        <path d=\"M19 3H5c-1.1 0-2 .9-2 2v14c0 1.1.9 2 2 2h14c1.1 0 2-.9 2-2V5c0-1.1-.9-2-2-2zM9 17H7v-7h2v7zm4 0h-2V7h2v10zm4 0h-2v-4h2v4z\"/>\n",
              "    </g>\n",
              "</svg>\n",
              "  </button>\n",
              "\n",
              "<style>\n",
              "  .colab-df-quickchart {\n",
              "      --bg-color: #E8F0FE;\n",
              "      --fill-color: #1967D2;\n",
              "      --hover-bg-color: #E2EBFA;\n",
              "      --hover-fill-color: #174EA6;\n",
              "      --disabled-fill-color: #AAA;\n",
              "      --disabled-bg-color: #DDD;\n",
              "  }\n",
              "\n",
              "  [theme=dark] .colab-df-quickchart {\n",
              "      --bg-color: #3B4455;\n",
              "      --fill-color: #D2E3FC;\n",
              "      --hover-bg-color: #434B5C;\n",
              "      --hover-fill-color: #FFFFFF;\n",
              "      --disabled-bg-color: #3B4455;\n",
              "      --disabled-fill-color: #666;\n",
              "  }\n",
              "\n",
              "  .colab-df-quickchart {\n",
              "    background-color: var(--bg-color);\n",
              "    border: none;\n",
              "    border-radius: 50%;\n",
              "    cursor: pointer;\n",
              "    display: none;\n",
              "    fill: var(--fill-color);\n",
              "    height: 32px;\n",
              "    padding: 0;\n",
              "    width: 32px;\n",
              "  }\n",
              "\n",
              "  .colab-df-quickchart:hover {\n",
              "    background-color: var(--hover-bg-color);\n",
              "    box-shadow: 0 1px 2px rgba(60, 64, 67, 0.3), 0 1px 3px 1px rgba(60, 64, 67, 0.15);\n",
              "    fill: var(--button-hover-fill-color);\n",
              "  }\n",
              "\n",
              "  .colab-df-quickchart-complete:disabled,\n",
              "  .colab-df-quickchart-complete:disabled:hover {\n",
              "    background-color: var(--disabled-bg-color);\n",
              "    fill: var(--disabled-fill-color);\n",
              "    box-shadow: none;\n",
              "  }\n",
              "\n",
              "  .colab-df-spinner {\n",
              "    border: 2px solid var(--fill-color);\n",
              "    border-color: transparent;\n",
              "    border-bottom-color: var(--fill-color);\n",
              "    animation:\n",
              "      spin 1s steps(1) infinite;\n",
              "  }\n",
              "\n",
              "  @keyframes spin {\n",
              "    0% {\n",
              "      border-color: transparent;\n",
              "      border-bottom-color: var(--fill-color);\n",
              "      border-left-color: var(--fill-color);\n",
              "    }\n",
              "    20% {\n",
              "      border-color: transparent;\n",
              "      border-left-color: var(--fill-color);\n",
              "      border-top-color: var(--fill-color);\n",
              "    }\n",
              "    30% {\n",
              "      border-color: transparent;\n",
              "      border-left-color: var(--fill-color);\n",
              "      border-top-color: var(--fill-color);\n",
              "      border-right-color: var(--fill-color);\n",
              "    }\n",
              "    40% {\n",
              "      border-color: transparent;\n",
              "      border-right-color: var(--fill-color);\n",
              "      border-top-color: var(--fill-color);\n",
              "    }\n",
              "    60% {\n",
              "      border-color: transparent;\n",
              "      border-right-color: var(--fill-color);\n",
              "    }\n",
              "    80% {\n",
              "      border-color: transparent;\n",
              "      border-right-color: var(--fill-color);\n",
              "      border-bottom-color: var(--fill-color);\n",
              "    }\n",
              "    90% {\n",
              "      border-color: transparent;\n",
              "      border-bottom-color: var(--fill-color);\n",
              "    }\n",
              "  }\n",
              "</style>\n",
              "\n",
              "  <script>\n",
              "    async function quickchart(key) {\n",
              "      const quickchartButtonEl =\n",
              "        document.querySelector('#' + key + ' button');\n",
              "      quickchartButtonEl.disabled = true;  // To prevent multiple clicks.\n",
              "      quickchartButtonEl.classList.add('colab-df-spinner');\n",
              "      try {\n",
              "        const charts = await google.colab.kernel.invokeFunction(\n",
              "            'suggestCharts', [key], {});\n",
              "      } catch (error) {\n",
              "        console.error('Error during call to suggestCharts:', error);\n",
              "      }\n",
              "      quickchartButtonEl.classList.remove('colab-df-spinner');\n",
              "      quickchartButtonEl.classList.add('colab-df-quickchart-complete');\n",
              "    }\n",
              "    (() => {\n",
              "      let quickchartButtonEl =\n",
              "        document.querySelector('#df-d0833137-7621-4289-b838-e37bcfe37d48 button');\n",
              "      quickchartButtonEl.style.display =\n",
              "        google.colab.kernel.accessAllowed ? 'block' : 'none';\n",
              "    })();\n",
              "  </script>\n",
              "</div>\n",
              "\n",
              "    </div>\n",
              "  </div>\n"
            ],
            "application/vnd.google.colaboratory.intrinsic+json": {
              "type": "dataframe",
              "summary": "{\n  \"name\": \"display(df_base\",\n  \"rows\": 5,\n  \"fields\": [\n    {\n      \"column\": \"nEmbarazos\",\n      \"properties\": {\n        \"dtype\": \"number\",\n        \"std\": 3,\n        \"min\": 0,\n        \"max\": 8,\n        \"num_unique_values\": 4,\n        \"samples\": [\n          1,\n          0,\n          6\n        ],\n        \"semantic_type\": \"\",\n        \"description\": \"\"\n      }\n    },\n    {\n      \"column\": \"concentracionGlucosa\",\n      \"properties\": {\n        \"dtype\": \"number\",\n        \"std\": 41,\n        \"min\": 85,\n        \"max\": 183,\n        \"num_unique_values\": 5,\n        \"samples\": [\n          85,\n          137,\n          183\n        ],\n        \"semantic_type\": \"\",\n        \"description\": \"\"\n      }\n    },\n    {\n      \"column\": \"presionArterialSistolica\",\n      \"properties\": {\n        \"dtype\": \"number\",\n        \"std\": 12,\n        \"min\": 40,\n        \"max\": 72,\n        \"num_unique_values\": 4,\n        \"samples\": [\n          66,\n          40,\n          72\n        ],\n        \"semantic_type\": \"\",\n        \"description\": \"\"\n      }\n    },\n    {\n      \"column\": \"pliegueCutaneo\",\n      \"properties\": {\n        \"dtype\": \"number\",\n        \"std\": 14,\n        \"min\": 0,\n        \"max\": 35,\n        \"num_unique_values\": 4,\n        \"samples\": [\n          29,\n          23,\n          35\n        ],\n        \"semantic_type\": \"\",\n        \"description\": \"\"\n      }\n    },\n    {\n      \"column\": \"insulinaSerica\",\n      \"properties\": {\n        \"dtype\": \"number\",\n        \"std\": 76,\n        \"min\": 0,\n        \"max\": 168,\n        \"num_unique_values\": 3,\n        \"samples\": [\n          0,\n          94,\n          168\n        ],\n        \"semantic_type\": \"\",\n        \"description\": \"\"\n      }\n    },\n    {\n      \"column\": \"IMC\",\n      \"properties\": {\n        \"dtype\": \"number\",\n        \"std\": 7.749387072536769,\n        \"min\": 23.3,\n        \"max\": 43.1,\n        \"num_unique_values\": 5,\n        \"samples\": [\n          26.6,\n          43.1,\n          23.3\n        ],\n        \"semantic_type\": \"\",\n        \"description\": \"\"\n      }\n    },\n    {\n      \"column\": \"funcionPediDiabe\",\n      \"properties\": {\n        \"dtype\": \"number\",\n        \"std\": 0.8456568452983751,\n        \"min\": 0.167,\n        \"max\": 2.288,\n        \"num_unique_values\": 5,\n        \"samples\": [\n          0.351,\n          2.288,\n          0.672\n        ],\n        \"semantic_type\": \"\",\n        \"description\": \"\"\n      }\n    },\n    {\n      \"column\": \"edad\",\n      \"properties\": {\n        \"dtype\": \"number\",\n        \"std\": 10,\n        \"min\": 21,\n        \"max\": 50,\n        \"num_unique_values\": 5,\n        \"samples\": [\n          31,\n          33,\n          32\n        ],\n        \"semantic_type\": \"\",\n        \"description\": \"\"\n      }\n    },\n    {\n      \"column\": \"diabetes\",\n      \"properties\": {\n        \"dtype\": \"number\",\n        \"std\": 0,\n        \"min\": 0,\n        \"max\": 1,\n        \"num_unique_values\": 2,\n        \"samples\": [\n          0,\n          1\n        ],\n        \"semantic_type\": \"\",\n        \"description\": \"\"\n      }\n    }\n  ]\n}"
            }
          },
          "metadata": {}
        }
      ],
      "source": [
        "#import pandas as pd dataset = pd.read_csv(\"/content/drive/MyDrive/Colab Notebooks/pima-indians-diabetes.csv\")\n",
        "df_base=pd.read_csv(\"/content/drive/MyDrive/Colab Notebooks/pima-indians-diabetes.csv\")\n",
        "\n",
        "display(df_base.head(5))"
      ]
    },
    {
      "cell_type": "code",
      "execution_count": 4,
      "metadata": {
        "id": "uxPlv-k4VqMH",
        "outputId": "6c6e4fbf-6aea-4e87-ebfe-4264ed3f1cb5",
        "colab": {
          "base_uri": "https://localhost:8080/"
        }
      },
      "outputs": [
        {
          "output_type": "execute_result",
          "data": {
            "text/plain": [
              "(768, 9)"
            ]
          },
          "metadata": {},
          "execution_count": 4
        }
      ],
      "source": [
        "df_base.shape"
      ]
    },
    {
      "cell_type": "code",
      "execution_count": 5,
      "metadata": {
        "id": "wvNhPqU0VqMI",
        "outputId": "58324bbb-397f-4d28-9e9e-ac2441a685fb",
        "colab": {
          "base_uri": "https://localhost:8080/",
          "height": 443
        }
      },
      "outputs": [
        {
          "output_type": "execute_result",
          "data": {
            "text/plain": [
              "     nEmbarazos  concentracionGlucosa  presionArterialSistolica  \\\n",
              "0             6                   148                        72   \n",
              "2             8                   183                        64   \n",
              "4             0                   137                        40   \n",
              "6             3                    78                        50   \n",
              "8             2                   197                        70   \n",
              "..          ...                   ...                       ...   \n",
              "755           1                   128                        88   \n",
              "757           0                   123                        72   \n",
              "759           6                   190                        92   \n",
              "761           9                   170                        74   \n",
              "766           1                   126                        60   \n",
              "\n",
              "     pliegueCutaneo  insulinaSerica   IMC  funcionPediDiabe  edad  diabetes  \n",
              "0                35               0  33.6             0.627    50         1  \n",
              "2                 0               0  23.3             0.672    32         1  \n",
              "4                35             168  43.1             2.288    33         1  \n",
              "6                32              88  31.0             0.248    26         1  \n",
              "8                45             543  30.5             0.158    53         1  \n",
              "..              ...             ...   ...               ...   ...       ...  \n",
              "755              39             110  36.5             1.057    37         1  \n",
              "757               0               0  36.3             0.258    52         1  \n",
              "759               0               0  35.5             0.278    66         1  \n",
              "761              31               0  44.0             0.403    43         1  \n",
              "766               0               0  30.1             0.349    47         1  \n",
              "\n",
              "[268 rows x 9 columns]"
            ],
            "text/html": [
              "\n",
              "  <div id=\"df-7bd3dc9f-1525-47a8-a13b-175c56989442\" class=\"colab-df-container\">\n",
              "    <div>\n",
              "<style scoped>\n",
              "    .dataframe tbody tr th:only-of-type {\n",
              "        vertical-align: middle;\n",
              "    }\n",
              "\n",
              "    .dataframe tbody tr th {\n",
              "        vertical-align: top;\n",
              "    }\n",
              "\n",
              "    .dataframe thead th {\n",
              "        text-align: right;\n",
              "    }\n",
              "</style>\n",
              "<table border=\"1\" class=\"dataframe\">\n",
              "  <thead>\n",
              "    <tr style=\"text-align: right;\">\n",
              "      <th></th>\n",
              "      <th>nEmbarazos</th>\n",
              "      <th>concentracionGlucosa</th>\n",
              "      <th>presionArterialSistolica</th>\n",
              "      <th>pliegueCutaneo</th>\n",
              "      <th>insulinaSerica</th>\n",
              "      <th>IMC</th>\n",
              "      <th>funcionPediDiabe</th>\n",
              "      <th>edad</th>\n",
              "      <th>diabetes</th>\n",
              "    </tr>\n",
              "  </thead>\n",
              "  <tbody>\n",
              "    <tr>\n",
              "      <th>0</th>\n",
              "      <td>6</td>\n",
              "      <td>148</td>\n",
              "      <td>72</td>\n",
              "      <td>35</td>\n",
              "      <td>0</td>\n",
              "      <td>33.6</td>\n",
              "      <td>0.627</td>\n",
              "      <td>50</td>\n",
              "      <td>1</td>\n",
              "    </tr>\n",
              "    <tr>\n",
              "      <th>2</th>\n",
              "      <td>8</td>\n",
              "      <td>183</td>\n",
              "      <td>64</td>\n",
              "      <td>0</td>\n",
              "      <td>0</td>\n",
              "      <td>23.3</td>\n",
              "      <td>0.672</td>\n",
              "      <td>32</td>\n",
              "      <td>1</td>\n",
              "    </tr>\n",
              "    <tr>\n",
              "      <th>4</th>\n",
              "      <td>0</td>\n",
              "      <td>137</td>\n",
              "      <td>40</td>\n",
              "      <td>35</td>\n",
              "      <td>168</td>\n",
              "      <td>43.1</td>\n",
              "      <td>2.288</td>\n",
              "      <td>33</td>\n",
              "      <td>1</td>\n",
              "    </tr>\n",
              "    <tr>\n",
              "      <th>6</th>\n",
              "      <td>3</td>\n",
              "      <td>78</td>\n",
              "      <td>50</td>\n",
              "      <td>32</td>\n",
              "      <td>88</td>\n",
              "      <td>31.0</td>\n",
              "      <td>0.248</td>\n",
              "      <td>26</td>\n",
              "      <td>1</td>\n",
              "    </tr>\n",
              "    <tr>\n",
              "      <th>8</th>\n",
              "      <td>2</td>\n",
              "      <td>197</td>\n",
              "      <td>70</td>\n",
              "      <td>45</td>\n",
              "      <td>543</td>\n",
              "      <td>30.5</td>\n",
              "      <td>0.158</td>\n",
              "      <td>53</td>\n",
              "      <td>1</td>\n",
              "    </tr>\n",
              "    <tr>\n",
              "      <th>...</th>\n",
              "      <td>...</td>\n",
              "      <td>...</td>\n",
              "      <td>...</td>\n",
              "      <td>...</td>\n",
              "      <td>...</td>\n",
              "      <td>...</td>\n",
              "      <td>...</td>\n",
              "      <td>...</td>\n",
              "      <td>...</td>\n",
              "    </tr>\n",
              "    <tr>\n",
              "      <th>755</th>\n",
              "      <td>1</td>\n",
              "      <td>128</td>\n",
              "      <td>88</td>\n",
              "      <td>39</td>\n",
              "      <td>110</td>\n",
              "      <td>36.5</td>\n",
              "      <td>1.057</td>\n",
              "      <td>37</td>\n",
              "      <td>1</td>\n",
              "    </tr>\n",
              "    <tr>\n",
              "      <th>757</th>\n",
              "      <td>0</td>\n",
              "      <td>123</td>\n",
              "      <td>72</td>\n",
              "      <td>0</td>\n",
              "      <td>0</td>\n",
              "      <td>36.3</td>\n",
              "      <td>0.258</td>\n",
              "      <td>52</td>\n",
              "      <td>1</td>\n",
              "    </tr>\n",
              "    <tr>\n",
              "      <th>759</th>\n",
              "      <td>6</td>\n",
              "      <td>190</td>\n",
              "      <td>92</td>\n",
              "      <td>0</td>\n",
              "      <td>0</td>\n",
              "      <td>35.5</td>\n",
              "      <td>0.278</td>\n",
              "      <td>66</td>\n",
              "      <td>1</td>\n",
              "    </tr>\n",
              "    <tr>\n",
              "      <th>761</th>\n",
              "      <td>9</td>\n",
              "      <td>170</td>\n",
              "      <td>74</td>\n",
              "      <td>31</td>\n",
              "      <td>0</td>\n",
              "      <td>44.0</td>\n",
              "      <td>0.403</td>\n",
              "      <td>43</td>\n",
              "      <td>1</td>\n",
              "    </tr>\n",
              "    <tr>\n",
              "      <th>766</th>\n",
              "      <td>1</td>\n",
              "      <td>126</td>\n",
              "      <td>60</td>\n",
              "      <td>0</td>\n",
              "      <td>0</td>\n",
              "      <td>30.1</td>\n",
              "      <td>0.349</td>\n",
              "      <td>47</td>\n",
              "      <td>1</td>\n",
              "    </tr>\n",
              "  </tbody>\n",
              "</table>\n",
              "<p>268 rows × 9 columns</p>\n",
              "</div>\n",
              "    <div class=\"colab-df-buttons\">\n",
              "\n",
              "  <div class=\"colab-df-container\">\n",
              "    <button class=\"colab-df-convert\" onclick=\"convertToInteractive('df-7bd3dc9f-1525-47a8-a13b-175c56989442')\"\n",
              "            title=\"Convert this dataframe to an interactive table.\"\n",
              "            style=\"display:none;\">\n",
              "\n",
              "  <svg xmlns=\"http://www.w3.org/2000/svg\" height=\"24px\" viewBox=\"0 -960 960 960\">\n",
              "    <path d=\"M120-120v-720h720v720H120Zm60-500h600v-160H180v160Zm220 220h160v-160H400v160Zm0 220h160v-160H400v160ZM180-400h160v-160H180v160Zm440 0h160v-160H620v160ZM180-180h160v-160H180v160Zm440 0h160v-160H620v160Z\"/>\n",
              "  </svg>\n",
              "    </button>\n",
              "\n",
              "  <style>\n",
              "    .colab-df-container {\n",
              "      display:flex;\n",
              "      gap: 12px;\n",
              "    }\n",
              "\n",
              "    .colab-df-convert {\n",
              "      background-color: #E8F0FE;\n",
              "      border: none;\n",
              "      border-radius: 50%;\n",
              "      cursor: pointer;\n",
              "      display: none;\n",
              "      fill: #1967D2;\n",
              "      height: 32px;\n",
              "      padding: 0 0 0 0;\n",
              "      width: 32px;\n",
              "    }\n",
              "\n",
              "    .colab-df-convert:hover {\n",
              "      background-color: #E2EBFA;\n",
              "      box-shadow: 0px 1px 2px rgba(60, 64, 67, 0.3), 0px 1px 3px 1px rgba(60, 64, 67, 0.15);\n",
              "      fill: #174EA6;\n",
              "    }\n",
              "\n",
              "    .colab-df-buttons div {\n",
              "      margin-bottom: 4px;\n",
              "    }\n",
              "\n",
              "    [theme=dark] .colab-df-convert {\n",
              "      background-color: #3B4455;\n",
              "      fill: #D2E3FC;\n",
              "    }\n",
              "\n",
              "    [theme=dark] .colab-df-convert:hover {\n",
              "      background-color: #434B5C;\n",
              "      box-shadow: 0px 1px 3px 1px rgba(0, 0, 0, 0.15);\n",
              "      filter: drop-shadow(0px 1px 2px rgba(0, 0, 0, 0.3));\n",
              "      fill: #FFFFFF;\n",
              "    }\n",
              "  </style>\n",
              "\n",
              "    <script>\n",
              "      const buttonEl =\n",
              "        document.querySelector('#df-7bd3dc9f-1525-47a8-a13b-175c56989442 button.colab-df-convert');\n",
              "      buttonEl.style.display =\n",
              "        google.colab.kernel.accessAllowed ? 'block' : 'none';\n",
              "\n",
              "      async function convertToInteractive(key) {\n",
              "        const element = document.querySelector('#df-7bd3dc9f-1525-47a8-a13b-175c56989442');\n",
              "        const dataTable =\n",
              "          await google.colab.kernel.invokeFunction('convertToInteractive',\n",
              "                                                    [key], {});\n",
              "        if (!dataTable) return;\n",
              "\n",
              "        const docLinkHtml = 'Like what you see? Visit the ' +\n",
              "          '<a target=\"_blank\" href=https://colab.research.google.com/notebooks/data_table.ipynb>data table notebook</a>'\n",
              "          + ' to learn more about interactive tables.';\n",
              "        element.innerHTML = '';\n",
              "        dataTable['output_type'] = 'display_data';\n",
              "        await google.colab.output.renderOutput(dataTable, element);\n",
              "        const docLink = document.createElement('div');\n",
              "        docLink.innerHTML = docLinkHtml;\n",
              "        element.appendChild(docLink);\n",
              "      }\n",
              "    </script>\n",
              "  </div>\n",
              "\n",
              "\n",
              "<div id=\"df-c4fe5de7-220f-4b19-b679-050bceacf9e9\">\n",
              "  <button class=\"colab-df-quickchart\" onclick=\"quickchart('df-c4fe5de7-220f-4b19-b679-050bceacf9e9')\"\n",
              "            title=\"Suggest charts\"\n",
              "            style=\"display:none;\">\n",
              "\n",
              "<svg xmlns=\"http://www.w3.org/2000/svg\" height=\"24px\"viewBox=\"0 0 24 24\"\n",
              "     width=\"24px\">\n",
              "    <g>\n",
              "        <path d=\"M19 3H5c-1.1 0-2 .9-2 2v14c0 1.1.9 2 2 2h14c1.1 0 2-.9 2-2V5c0-1.1-.9-2-2-2zM9 17H7v-7h2v7zm4 0h-2V7h2v10zm4 0h-2v-4h2v4z\"/>\n",
              "    </g>\n",
              "</svg>\n",
              "  </button>\n",
              "\n",
              "<style>\n",
              "  .colab-df-quickchart {\n",
              "      --bg-color: #E8F0FE;\n",
              "      --fill-color: #1967D2;\n",
              "      --hover-bg-color: #E2EBFA;\n",
              "      --hover-fill-color: #174EA6;\n",
              "      --disabled-fill-color: #AAA;\n",
              "      --disabled-bg-color: #DDD;\n",
              "  }\n",
              "\n",
              "  [theme=dark] .colab-df-quickchart {\n",
              "      --bg-color: #3B4455;\n",
              "      --fill-color: #D2E3FC;\n",
              "      --hover-bg-color: #434B5C;\n",
              "      --hover-fill-color: #FFFFFF;\n",
              "      --disabled-bg-color: #3B4455;\n",
              "      --disabled-fill-color: #666;\n",
              "  }\n",
              "\n",
              "  .colab-df-quickchart {\n",
              "    background-color: var(--bg-color);\n",
              "    border: none;\n",
              "    border-radius: 50%;\n",
              "    cursor: pointer;\n",
              "    display: none;\n",
              "    fill: var(--fill-color);\n",
              "    height: 32px;\n",
              "    padding: 0;\n",
              "    width: 32px;\n",
              "  }\n",
              "\n",
              "  .colab-df-quickchart:hover {\n",
              "    background-color: var(--hover-bg-color);\n",
              "    box-shadow: 0 1px 2px rgba(60, 64, 67, 0.3), 0 1px 3px 1px rgba(60, 64, 67, 0.15);\n",
              "    fill: var(--button-hover-fill-color);\n",
              "  }\n",
              "\n",
              "  .colab-df-quickchart-complete:disabled,\n",
              "  .colab-df-quickchart-complete:disabled:hover {\n",
              "    background-color: var(--disabled-bg-color);\n",
              "    fill: var(--disabled-fill-color);\n",
              "    box-shadow: none;\n",
              "  }\n",
              "\n",
              "  .colab-df-spinner {\n",
              "    border: 2px solid var(--fill-color);\n",
              "    border-color: transparent;\n",
              "    border-bottom-color: var(--fill-color);\n",
              "    animation:\n",
              "      spin 1s steps(1) infinite;\n",
              "  }\n",
              "\n",
              "  @keyframes spin {\n",
              "    0% {\n",
              "      border-color: transparent;\n",
              "      border-bottom-color: var(--fill-color);\n",
              "      border-left-color: var(--fill-color);\n",
              "    }\n",
              "    20% {\n",
              "      border-color: transparent;\n",
              "      border-left-color: var(--fill-color);\n",
              "      border-top-color: var(--fill-color);\n",
              "    }\n",
              "    30% {\n",
              "      border-color: transparent;\n",
              "      border-left-color: var(--fill-color);\n",
              "      border-top-color: var(--fill-color);\n",
              "      border-right-color: var(--fill-color);\n",
              "    }\n",
              "    40% {\n",
              "      border-color: transparent;\n",
              "      border-right-color: var(--fill-color);\n",
              "      border-top-color: var(--fill-color);\n",
              "    }\n",
              "    60% {\n",
              "      border-color: transparent;\n",
              "      border-right-color: var(--fill-color);\n",
              "    }\n",
              "    80% {\n",
              "      border-color: transparent;\n",
              "      border-right-color: var(--fill-color);\n",
              "      border-bottom-color: var(--fill-color);\n",
              "    }\n",
              "    90% {\n",
              "      border-color: transparent;\n",
              "      border-bottom-color: var(--fill-color);\n",
              "    }\n",
              "  }\n",
              "</style>\n",
              "\n",
              "  <script>\n",
              "    async function quickchart(key) {\n",
              "      const quickchartButtonEl =\n",
              "        document.querySelector('#' + key + ' button');\n",
              "      quickchartButtonEl.disabled = true;  // To prevent multiple clicks.\n",
              "      quickchartButtonEl.classList.add('colab-df-spinner');\n",
              "      try {\n",
              "        const charts = await google.colab.kernel.invokeFunction(\n",
              "            'suggestCharts', [key], {});\n",
              "      } catch (error) {\n",
              "        console.error('Error during call to suggestCharts:', error);\n",
              "      }\n",
              "      quickchartButtonEl.classList.remove('colab-df-spinner');\n",
              "      quickchartButtonEl.classList.add('colab-df-quickchart-complete');\n",
              "    }\n",
              "    (() => {\n",
              "      let quickchartButtonEl =\n",
              "        document.querySelector('#df-c4fe5de7-220f-4b19-b679-050bceacf9e9 button');\n",
              "      quickchartButtonEl.style.display =\n",
              "        google.colab.kernel.accessAllowed ? 'block' : 'none';\n",
              "    })();\n",
              "  </script>\n",
              "</div>\n",
              "\n",
              "    </div>\n",
              "  </div>\n"
            ],
            "application/vnd.google.colaboratory.intrinsic+json": {
              "type": "dataframe",
              "summary": "{\n  \"name\": \"df_base[(df_base['diabetes']==1)]\",\n  \"rows\": 268,\n  \"fields\": [\n    {\n      \"column\": \"nEmbarazos\",\n      \"properties\": {\n        \"dtype\": \"number\",\n        \"std\": 3,\n        \"min\": 0,\n        \"max\": 17,\n        \"num_unique_values\": 17,\n        \"samples\": [\n          6,\n          8,\n          10\n        ],\n        \"semantic_type\": \"\",\n        \"description\": \"\"\n      }\n    },\n    {\n      \"column\": \"concentracionGlucosa\",\n      \"properties\": {\n        \"dtype\": \"number\",\n        \"std\": 31,\n        \"min\": 0,\n        \"max\": 199,\n        \"num_unique_values\": 104,\n        \"samples\": [\n          131,\n          85,\n          151\n        ],\n        \"semantic_type\": \"\",\n        \"description\": \"\"\n      }\n    },\n    {\n      \"column\": \"presionArterialSistolica\",\n      \"properties\": {\n        \"dtype\": \"number\",\n        \"std\": 21,\n        \"min\": 0,\n        \"max\": 114,\n        \"num_unique_values\": 39,\n        \"samples\": [\n          58,\n          100,\n          70\n        ],\n        \"semantic_type\": \"\",\n        \"description\": \"\"\n      }\n    },\n    {\n      \"column\": \"pliegueCutaneo\",\n      \"properties\": {\n        \"dtype\": \"number\",\n        \"std\": 17,\n        \"min\": 0,\n        \"max\": 99,\n        \"num_unique_values\": 43,\n        \"samples\": [\n          48,\n          18,\n          46\n        ],\n        \"semantic_type\": \"\",\n        \"description\": \"\"\n      }\n    },\n    {\n      \"column\": \"insulinaSerica\",\n      \"properties\": {\n        \"dtype\": \"number\",\n        \"std\": 138,\n        \"min\": 0,\n        \"max\": 846,\n        \"num_unique_values\": 93,\n        \"samples\": [\n          176,\n          99,\n          249\n        ],\n        \"semantic_type\": \"\",\n        \"description\": \"\"\n      }\n    },\n    {\n      \"column\": \"IMC\",\n      \"properties\": {\n        \"dtype\": \"number\",\n        \"std\": 7.262967242346376,\n        \"min\": 0.0,\n        \"max\": 67.1,\n        \"num_unique_values\": 148,\n        \"samples\": [\n          34.4,\n          35.4,\n          46.1\n        ],\n        \"semantic_type\": \"\",\n        \"description\": \"\"\n      }\n    },\n    {\n      \"column\": \"funcionPediDiabe\",\n      \"properties\": {\n        \"dtype\": \"number\",\n        \"std\": 0.372354483554611,\n        \"min\": 0.088,\n        \"max\": 2.42,\n        \"num_unique_values\": 231,\n        \"samples\": [\n          0.378,\n          0.578,\n          0.484\n        ],\n        \"semantic_type\": \"\",\n        \"description\": \"\"\n      }\n    },\n    {\n      \"column\": \"edad\",\n      \"properties\": {\n        \"dtype\": \"number\",\n        \"std\": 10,\n        \"min\": 21,\n        \"max\": 70,\n        \"num_unique_values\": 45,\n        \"samples\": [\n          35,\n          61,\n          23\n        ],\n        \"semantic_type\": \"\",\n        \"description\": \"\"\n      }\n    },\n    {\n      \"column\": \"diabetes\",\n      \"properties\": {\n        \"dtype\": \"number\",\n        \"std\": 0,\n        \"min\": 1,\n        \"max\": 1,\n        \"num_unique_values\": 1,\n        \"samples\": [\n          1\n        ],\n        \"semantic_type\": \"\",\n        \"description\": \"\"\n      }\n    }\n  ]\n}"
            }
          },
          "metadata": {},
          "execution_count": 5
        }
      ],
      "source": [
        "df_base[(df_base['diabetes']==1)]"
      ]
    },
    {
      "cell_type": "code",
      "execution_count": 6,
      "metadata": {
        "id": "vhvpiecvVqMI",
        "outputId": "6765976c-b0b2-46a3-97e8-ae871ccdcc45",
        "colab": {
          "base_uri": "https://localhost:8080/",
          "height": 366
        }
      },
      "outputs": [
        {
          "output_type": "execute_result",
          "data": {
            "text/plain": [
              "nEmbarazos                    int64\n",
              "concentracionGlucosa          int64\n",
              "presionArterialSistolica      int64\n",
              "pliegueCutaneo                int64\n",
              "insulinaSerica                int64\n",
              "IMC                         float64\n",
              "funcionPediDiabe            float64\n",
              "edad                          int64\n",
              "diabetes                      int64\n",
              "dtype: object"
            ],
            "text/html": [
              "<div>\n",
              "<style scoped>\n",
              "    .dataframe tbody tr th:only-of-type {\n",
              "        vertical-align: middle;\n",
              "    }\n",
              "\n",
              "    .dataframe tbody tr th {\n",
              "        vertical-align: top;\n",
              "    }\n",
              "\n",
              "    .dataframe thead th {\n",
              "        text-align: right;\n",
              "    }\n",
              "</style>\n",
              "<table border=\"1\" class=\"dataframe\">\n",
              "  <thead>\n",
              "    <tr style=\"text-align: right;\">\n",
              "      <th></th>\n",
              "      <th>0</th>\n",
              "    </tr>\n",
              "  </thead>\n",
              "  <tbody>\n",
              "    <tr>\n",
              "      <th>nEmbarazos</th>\n",
              "      <td>int64</td>\n",
              "    </tr>\n",
              "    <tr>\n",
              "      <th>concentracionGlucosa</th>\n",
              "      <td>int64</td>\n",
              "    </tr>\n",
              "    <tr>\n",
              "      <th>presionArterialSistolica</th>\n",
              "      <td>int64</td>\n",
              "    </tr>\n",
              "    <tr>\n",
              "      <th>pliegueCutaneo</th>\n",
              "      <td>int64</td>\n",
              "    </tr>\n",
              "    <tr>\n",
              "      <th>insulinaSerica</th>\n",
              "      <td>int64</td>\n",
              "    </tr>\n",
              "    <tr>\n",
              "      <th>IMC</th>\n",
              "      <td>float64</td>\n",
              "    </tr>\n",
              "    <tr>\n",
              "      <th>funcionPediDiabe</th>\n",
              "      <td>float64</td>\n",
              "    </tr>\n",
              "    <tr>\n",
              "      <th>edad</th>\n",
              "      <td>int64</td>\n",
              "    </tr>\n",
              "    <tr>\n",
              "      <th>diabetes</th>\n",
              "      <td>int64</td>\n",
              "    </tr>\n",
              "  </tbody>\n",
              "</table>\n",
              "</div><br><label><b>dtype:</b> object</label>"
            ]
          },
          "metadata": {},
          "execution_count": 6
        }
      ],
      "source": [
        "df_base.dtypes"
      ]
    },
    {
      "cell_type": "markdown",
      "metadata": {
        "id": "kF4FnyzEVqMI"
      },
      "source": [
        "# 2.- Análisis exploratorio de los datos\n",
        "## **2.1. Escriba el código que permita crear los histogramas de todas las variables:**"
      ]
    },
    {
      "cell_type": "code",
      "execution_count": 7,
      "metadata": {
        "id": "Ynu4YBNCVqMJ",
        "colab": {
          "base_uri": "https://localhost:8080/",
          "height": 462
        },
        "outputId": "9dca76f9-b8c5-4196-e7c3-5e29e919e092"
      },
      "outputs": [
        {
          "output_type": "display_data",
          "data": {
            "text/plain": [
              "<Figure size 2000x1000 with 9 Axes>"
            ],
            "image/png": "[encoded data removed]"
          },
          "metadata": {}
        }
      ],
      "source": [
        "# Dibujar histogramas de todos los atributos\n",
        "plt.rcParams['figure.figsize'] = [20, 10];\n",
        "df_base.hist()\n",
        "plt.show()\n",
        "\n",
        "\n",
        "\n"
      ]
    },
    {
      "cell_type": "code",
      "execution_count": 8,
      "metadata": {
        "id": "lDNUOI9DVqMJ",
        "outputId": "f2da2a43-9d3b-4147-d163-d3a444ce8920",
        "colab": {
          "base_uri": "https://localhost:8080/",
          "height": 320
        }
      },
      "outputs": [
        {
          "output_type": "execute_result",
          "data": {
            "text/plain": [
              "       nEmbarazos  concentracionGlucosa  presionArterialSistolica  \\\n",
              "count  768.000000            768.000000                768.000000   \n",
              "mean     3.845052            120.894531                 69.105469   \n",
              "std      3.369578             31.972618                 19.355807   \n",
              "min      0.000000              0.000000                  0.000000   \n",
              "25%      1.000000             99.000000                 62.000000   \n",
              "50%      3.000000            117.000000                 72.000000   \n",
              "75%      6.000000            140.250000                 80.000000   \n",
              "max     17.000000            199.000000                122.000000   \n",
              "\n",
              "       pliegueCutaneo  insulinaSerica         IMC  funcionPediDiabe  \\\n",
              "count      768.000000      768.000000  768.000000        768.000000   \n",
              "mean        20.536458       79.799479   31.992578          0.471876   \n",
              "std         15.952218      115.244002    7.884160          0.331329   \n",
              "min          0.000000        0.000000    0.000000          0.078000   \n",
              "25%          0.000000        0.000000   27.300000          0.243750   \n",
              "50%         23.000000       30.500000   32.000000          0.372500   \n",
              "75%         32.000000      127.250000   36.600000          0.626250   \n",
              "max         99.000000      846.000000   67.100000          2.420000   \n",
              "\n",
              "             edad    diabetes  \n",
              "count  768.000000  768.000000  \n",
              "mean    33.240885    0.348958  \n",
              "std     11.760232    0.476951  \n",
              "min     21.000000    0.000000  \n",
              "25%     24.000000    0.000000  \n",
              "50%     29.000000    0.000000  \n",
              "75%     41.000000    1.000000  \n",
              "max     81.000000    1.000000  "
            ],
            "text/html": [
              "\n",
              "  <div id=\"df-1ea6d012-61c6-4eae-a795-cfd9c45ff71b\" class=\"colab-df-container\">\n",
              "    <div>\n",
              "<style scoped>\n",
              "    .dataframe tbody tr th:only-of-type {\n",
              "        vertical-align: middle;\n",
              "    }\n",
              "\n",
              "    .dataframe tbody tr th {\n",
              "        vertical-align: top;\n",
              "    }\n",
              "\n",
              "    .dataframe thead th {\n",
              "        text-align: right;\n",
              "    }\n",
              "</style>\n",
              "<table border=\"1\" class=\"dataframe\">\n",
              "  <thead>\n",
              "    <tr style=\"text-align: right;\">\n",
              "      <th></th>\n",
              "      <th>nEmbarazos</th>\n",
              "      <th>concentracionGlucosa</th>\n",
              "      <th>presionArterialSistolica</th>\n",
              "      <th>pliegueCutaneo</th>\n",
              "      <th>insulinaSerica</th>\n",
              "      <th>IMC</th>\n",
              "      <th>funcionPediDiabe</th>\n",
              "      <th>edad</th>\n",
              "      <th>diabetes</th>\n",
              "    </tr>\n",
              "  </thead>\n",
              "  <tbody>\n",
              "    <tr>\n",
              "      <th>count</th>\n",
              "      <td>768.000000</td>\n",
              "      <td>768.000000</td>\n",
              "      <td>768.000000</td>\n",
              "      <td>768.000000</td>\n",
              "      <td>768.000000</td>\n",
              "      <td>768.000000</td>\n",
              "      <td>768.000000</td>\n",
              "      <td>768.000000</td>\n",
              "      <td>768.000000</td>\n",
              "    </tr>\n",
              "    <tr>\n",
              "      <th>mean</th>\n",
              "      <td>3.845052</td>\n",
              "      <td>120.894531</td>\n",
              "      <td>69.105469</td>\n",
              "      <td>20.536458</td>\n",
              "      <td>79.799479</td>\n",
              "      <td>31.992578</td>\n",
              "      <td>0.471876</td>\n",
              "      <td>33.240885</td>\n",
              "      <td>0.348958</td>\n",
              "    </tr>\n",
              "    <tr>\n",
              "      <th>std</th>\n",
              "      <td>3.369578</td>\n",
              "      <td>31.972618</td>\n",
              "      <td>19.355807</td>\n",
              "      <td>15.952218</td>\n",
              "      <td>115.244002</td>\n",
              "      <td>7.884160</td>\n",
              "      <td>0.331329</td>\n",
              "      <td>11.760232</td>\n",
              "      <td>0.476951</td>\n",
              "    </tr>\n",
              "    <tr>\n",
              "      <th>min</th>\n",
              "      <td>0.000000</td>\n",
              "      <td>0.000000</td>\n",
              "      <td>0.000000</td>\n",
              "      <td>0.000000</td>\n",
              "      <td>0.000000</td>\n",
              "      <td>0.000000</td>\n",
              "      <td>0.078000</td>\n",
              "      <td>21.000000</td>\n",
              "      <td>0.000000</td>\n",
              "    </tr>\n",
              "    <tr>\n",
              "      <th>25%</th>\n",
              "      <td>1.000000</td>\n",
              "      <td>99.000000</td>\n",
              "      <td>62.000000</td>\n",
              "      <td>0.000000</td>\n",
              "      <td>0.000000</td>\n",
              "      <td>27.300000</td>\n",
              "      <td>0.243750</td>\n",
              "      <td>24.000000</td>\n",
              "      <td>0.000000</td>\n",
              "    </tr>\n",
              "    <tr>\n",
              "      <th>50%</th>\n",
              "      <td>3.000000</td>\n",
              "      <td>117.000000</td>\n",
              "      <td>72.000000</td>\n",
              "      <td>23.000000</td>\n",
              "      <td>30.500000</td>\n",
              "      <td>32.000000</td>\n",
              "      <td>0.372500</td>\n",
              "      <td>29.000000</td>\n",
              "      <td>0.000000</td>\n",
              "    </tr>\n",
              "    <tr>\n",
              "      <th>75%</th>\n",
              "      <td>6.000000</td>\n",
              "      <td>140.250000</td>\n",
              "      <td>80.000000</td>\n",
              "      <td>32.000000</td>\n",
              "      <td>127.250000</td>\n",
              "      <td>36.600000</td>\n",
              "      <td>0.626250</td>\n",
              "      <td>41.000000</td>\n",
              "      <td>1.000000</td>\n",
              "    </tr>\n",
              "    <tr>\n",
              "      <th>max</th>\n",
              "      <td>17.000000</td>\n",
              "      <td>199.000000</td>\n",
              "      <td>122.000000</td>\n",
              "      <td>99.000000</td>\n",
              "      <td>846.000000</td>\n",
              "      <td>67.100000</td>\n",
              "      <td>2.420000</td>\n",
              "      <td>81.000000</td>\n",
              "      <td>1.000000</td>\n",
              "    </tr>\n",
              "  </tbody>\n",
              "</table>\n",
              "</div>\n",
              "    <div class=\"colab-df-buttons\">\n",
              "\n",
              "  <div class=\"colab-df-container\">\n",
              "    <button class=\"colab-df-convert\" onclick=\"convertToInteractive('df-1ea6d012-61c6-4eae-a795-cfd9c45ff71b')\"\n",
              "            title=\"Convert this dataframe to an interactive table.\"\n",
              "            style=\"display:none;\">\n",
              "\n",
              "  <svg xmlns=\"http://www.w3.org/2000/svg\" height=\"24px\" viewBox=\"0 -960 960 960\">\n",
              "    <path d=\"M120-120v-720h720v720H120Zm60-500h600v-160H180v160Zm220 220h160v-160H400v160Zm0 220h160v-160H400v160ZM180-400h160v-160H180v160Zm440 0h160v-160H620v160ZM180-180h160v-160H180v160Zm440 0h160v-160H620v160Z\"/>\n",
              "  </svg>\n",
              "    </button>\n",
              "\n",
              "  <style>\n",
              "    .colab-df-container {\n",
              "      display:flex;\n",
              "      gap: 12px;\n",
              "    }\n",
              "\n",
              "    .colab-df-convert {\n",
              "      background-color: #E8F0FE;\n",
              "      border: none;\n",
              "      border-radius: 50%;\n",
              "      cursor: pointer;\n",
              "      display: none;\n",
              "      fill: #1967D2;\n",
              "      height: 32px;\n",
              "      padding: 0 0 0 0;\n",
              "      width: 32px;\n",
              "    }\n",
              "\n",
              "    .colab-df-convert:hover {\n",
              "      background-color: #E2EBFA;\n",
              "      box-shadow: 0px 1px 2px rgba(60, 64, 67, 0.3), 0px 1px 3px 1px rgba(60, 64, 67, 0.15);\n",
              "      fill: #174EA6;\n",
              "    }\n",
              "\n",
              "    .colab-df-buttons div {\n",
              "      margin-bottom: 4px;\n",
              "    }\n",
              "\n",
              "    [theme=dark] .colab-df-convert {\n",
              "      background-color: #3B4455;\n",
              "      fill: #D2E3FC;\n",
              "    }\n",
              "\n",
              "    [theme=dark] .colab-df-convert:hover {\n",
              "      background-color: #434B5C;\n",
              "      box-shadow: 0px 1px 3px 1px rgba(0, 0, 0, 0.15);\n",
              "      filter: drop-shadow(0px 1px 2px rgba(0, 0, 0, 0.3));\n",
              "      fill: #FFFFFF;\n",
              "    }\n",
              "  </style>\n",
              "\n",
              "    <script>\n",
              "      const buttonEl =\n",
              "        document.querySelector('#df-1ea6d012-61c6-4eae-a795-cfd9c45ff71b button.colab-df-convert');\n",
              "      buttonEl.style.display =\n",
              "        google.colab.kernel.accessAllowed ? 'block' : 'none';\n",
              "\n",
              "      async function convertToInteractive(key) {\n",
              "        const element = document.querySelector('#df-1ea6d012-61c6-4eae-a795-cfd9c45ff71b');\n",
              "        const dataTable =\n",
              "          await google.colab.kernel.invokeFunction('convertToInteractive',\n",
              "                                                    [key], {});\n",
              "        if (!dataTable) return;\n",
              "\n",
              "        const docLinkHtml = 'Like what you see? Visit the ' +\n",
              "          '<a target=\"_blank\" href=https://colab.research.google.com/notebooks/data_table.ipynb>data table notebook</a>'\n",
              "          + ' to learn more about interactive tables.';\n",
              "        element.innerHTML = '';\n",
              "        dataTable['output_type'] = 'display_data';\n",
              "        await google.colab.output.renderOutput(dataTable, element);\n",
              "        const docLink = document.createElement('div');\n",
              "        docLink.innerHTML = docLinkHtml;\n",
              "        element.appendChild(docLink);\n",
              "      }\n",
              "    </script>\n",
              "  </div>\n",
              "\n",
              "\n",
              "<div id=\"df-aa42c6f9-0161-419b-8fec-ea6cc35aabe2\">\n",
              "  <button class=\"colab-df-quickchart\" onclick=\"quickchart('df-aa42c6f9-0161-419b-8fec-ea6cc35aabe2')\"\n",
              "            title=\"Suggest charts\"\n",
              "            style=\"display:none;\">\n",
              "\n",
              "<svg xmlns=\"http://www.w3.org/2000/svg\" height=\"24px\"viewBox=\"0 0 24 24\"\n",
              "     width=\"24px\">\n",
              "    <g>\n",
              "        <path d=\"M19 3H5c-1.1 0-2 .9-2 2v14c0 1.1.9 2 2 2h14c1.1 0 2-.9 2-2V5c0-1.1-.9-2-2-2zM9 17H7v-7h2v7zm4 0h-2V7h2v10zm4 0h-2v-4h2v4z\"/>\n",
              "    </g>\n",
              "</svg>\n",
              "  </button>\n",
              "\n",
              "<style>\n",
              "  .colab-df-quickchart {\n",
              "      --bg-color: #E8F0FE;\n",
              "      --fill-color: #1967D2;\n",
              "      --hover-bg-color: #E2EBFA;\n",
              "      --hover-fill-color: #174EA6;\n",
              "      --disabled-fill-color: #AAA;\n",
              "      --disabled-bg-color: #DDD;\n",
              "  }\n",
              "\n",
              "  [theme=dark] .colab-df-quickchart {\n",
              "      --bg-color: #3B4455;\n",
              "      --fill-color: #D2E3FC;\n",
              "      --hover-bg-color: #434B5C;\n",
              "      --hover-fill-color: #FFFFFF;\n",
              "      --disabled-bg-color: #3B4455;\n",
              "      --disabled-fill-color: #666;\n",
              "  }\n",
              "\n",
              "  .colab-df-quickchart {\n",
              "    background-color: var(--bg-color);\n",
              "    border: none;\n",
              "    border-radius: 50%;\n",
              "    cursor: pointer;\n",
              "    display: none;\n",
              "    fill: var(--fill-color);\n",
              "    height: 32px;\n",
              "    padding: 0;\n",
              "    width: 32px;\n",
              "  }\n",
              "\n",
              "  .colab-df-quickchart:hover {\n",
              "    background-color: var(--hover-bg-color);\n",
              "    box-shadow: 0 1px 2px rgba(60, 64, 67, 0.3), 0 1px 3px 1px rgba(60, 64, 67, 0.15);\n",
              "    fill: var(--button-hover-fill-color);\n",
              "  }\n",
              "\n",
              "  .colab-df-quickchart-complete:disabled,\n",
              "  .colab-df-quickchart-complete:disabled:hover {\n",
              "    background-color: var(--disabled-bg-color);\n",
              "    fill: var(--disabled-fill-color);\n",
              "    box-shadow: none;\n",
              "  }\n",
              "\n",
              "  .colab-df-spinner {\n",
              "    border: 2px solid var(--fill-color);\n",
              "    border-color: transparent;\n",
              "    border-bottom-color: var(--fill-color);\n",
              "    animation:\n",
              "      spin 1s steps(1) infinite;\n",
              "  }\n",
              "\n",
              "  @keyframes spin {\n",
              "    0% {\n",
              "      border-color: transparent;\n",
              "      border-bottom-color: var(--fill-color);\n",
              "      border-left-color: var(--fill-color);\n",
              "    }\n",
              "    20% {\n",
              "      border-color: transparent;\n",
              "      border-left-color: var(--fill-color);\n",
              "      border-top-color: var(--fill-color);\n",
              "    }\n",
              "    30% {\n",
              "      border-color: transparent;\n",
              "      border-left-color: var(--fill-color);\n",
              "      border-top-color: var(--fill-color);\n",
              "      border-right-color: var(--fill-color);\n",
              "    }\n",
              "    40% {\n",
              "      border-color: transparent;\n",
              "      border-right-color: var(--fill-color);\n",
              "      border-top-color: var(--fill-color);\n",
              "    }\n",
              "    60% {\n",
              "      border-color: transparent;\n",
              "      border-right-color: var(--fill-color);\n",
              "    }\n",
              "    80% {\n",
              "      border-color: transparent;\n",
              "      border-right-color: var(--fill-color);\n",
              "      border-bottom-color: var(--fill-color);\n",
              "    }\n",
              "    90% {\n",
              "      border-color: transparent;\n",
              "      border-bottom-color: var(--fill-color);\n",
              "    }\n",
              "  }\n",
              "</style>\n",
              "\n",
              "  <script>\n",
              "    async function quickchart(key) {\n",
              "      const quickchartButtonEl =\n",
              "        document.querySelector('#' + key + ' button');\n",
              "      quickchartButtonEl.disabled = true;  // To prevent multiple clicks.\n",
              "      quickchartButtonEl.classList.add('colab-df-spinner');\n",
              "      try {\n",
              "        const charts = await google.colab.kernel.invokeFunction(\n",
              "            'suggestCharts', [key], {});\n",
              "      } catch (error) {\n",
              "        console.error('Error during call to suggestCharts:', error);\n",
              "      }\n",
              "      quickchartButtonEl.classList.remove('colab-df-spinner');\n",
              "      quickchartButtonEl.classList.add('colab-df-quickchart-complete');\n",
              "    }\n",
              "    (() => {\n",
              "      let quickchartButtonEl =\n",
              "        document.querySelector('#df-aa42c6f9-0161-419b-8fec-ea6cc35aabe2 button');\n",
              "      quickchartButtonEl.style.display =\n",
              "        google.colab.kernel.accessAllowed ? 'block' : 'none';\n",
              "    })();\n",
              "  </script>\n",
              "</div>\n",
              "\n",
              "    </div>\n",
              "  </div>\n"
            ],
            "application/vnd.google.colaboratory.intrinsic+json": {
              "type": "dataframe",
              "summary": "{\n  \"name\": \"df_base\",\n  \"rows\": 8,\n  \"fields\": [\n    {\n      \"column\": \"nEmbarazos\",\n      \"properties\": {\n        \"dtype\": \"number\",\n        \"std\": 269.85223453356366,\n        \"min\": 0.0,\n        \"max\": 768.0,\n        \"num_unique_values\": 8,\n        \"samples\": [\n          3.8450520833333335,\n          3.0,\n          768.0\n        ],\n        \"semantic_type\": \"\",\n        \"description\": \"\"\n      }\n    },\n    {\n      \"column\": \"concentracionGlucosa\",\n      \"properties\": {\n        \"dtype\": \"number\",\n        \"std\": 243.73802348295857,\n        \"min\": 0.0,\n        \"max\": 768.0,\n        \"num_unique_values\": 8,\n        \"samples\": [\n          120.89453125,\n          117.0,\n          768.0\n        ],\n        \"semantic_type\": \"\",\n        \"description\": \"\"\n      }\n    },\n    {\n      \"column\": \"presionArterialSistolica\",\n      \"properties\": {\n        \"dtype\": \"number\",\n        \"std\": 252.85250535810619,\n        \"min\": 0.0,\n        \"max\": 768.0,\n        \"num_unique_values\": 8,\n        \"samples\": [\n          69.10546875,\n          72.0,\n          768.0\n        ],\n        \"semantic_type\": \"\",\n        \"description\": \"\"\n      }\n    },\n    {\n      \"column\": \"pliegueCutaneo\",\n      \"properties\": {\n        \"dtype\": \"number\",\n        \"std\": 263.7684730531098,\n        \"min\": 0.0,\n        \"max\": 768.0,\n        \"num_unique_values\": 7,\n        \"samples\": [\n          768.0,\n          20.536458333333332,\n          32.0\n        ],\n        \"semantic_type\": \"\",\n        \"description\": \"\"\n      }\n    },\n    {\n      \"column\": \"insulinaSerica\",\n      \"properties\": {\n        \"dtype\": \"number\",\n        \"std\": 350.26059167945886,\n        \"min\": 0.0,\n        \"max\": 846.0,\n        \"num_unique_values\": 7,\n        \"samples\": [\n          768.0,\n          79.79947916666667,\n          127.25\n        ],\n        \"semantic_type\": \"\",\n        \"description\": \"\"\n      }\n    },\n    {\n      \"column\": \"IMC\",\n      \"properties\": {\n        \"dtype\": \"number\",\n        \"std\": 262.05117817552093,\n        \"min\": 0.0,\n        \"max\": 768.0,\n        \"num_unique_values\": 8,\n        \"samples\": [\n          31.992578124999998,\n          32.0,\n          768.0\n        ],\n        \"semantic_type\": \"\",\n        \"description\": \"\"\n      }\n    },\n    {\n      \"column\": \"funcionPediDiabe\",\n      \"properties\": {\n        \"dtype\": \"number\",\n        \"std\": 271.3005221658502,\n        \"min\": 0.078,\n        \"max\": 768.0,\n        \"num_unique_values\": 8,\n        \"samples\": [\n          0.47187630208333325,\n          0.3725,\n          768.0\n        ],\n        \"semantic_type\": \"\",\n        \"description\": \"\"\n      }\n    },\n    {\n      \"column\": \"edad\",\n      \"properties\": {\n        \"dtype\": \"number\",\n        \"std\": 260.1941178528413,\n        \"min\": 11.76023154067868,\n        \"max\": 768.0,\n        \"num_unique_values\": 8,\n        \"samples\": [\n          33.240885416666664,\n          29.0,\n          768.0\n        ],\n        \"semantic_type\": \"\",\n        \"description\": \"\"\n      }\n    },\n    {\n      \"column\": \"diabetes\",\n      \"properties\": {\n        \"dtype\": \"number\",\n        \"std\": 271.3865920388932,\n        \"min\": 0.0,\n        \"max\": 768.0,\n        \"num_unique_values\": 5,\n        \"samples\": [\n          0.3489583333333333,\n          1.0,\n          0.4769513772427971\n        ],\n        \"semantic_type\": \"\",\n        \"description\": \"\"\n      }\n    }\n  ]\n}"
            }
          },
          "metadata": {},
          "execution_count": 8
        }
      ],
      "source": [
        "df_base.describe()\n"
      ]
    },
    {
      "cell_type": "code",
      "execution_count": 9,
      "metadata": {
        "id": "eM5paApRVqMJ",
        "outputId": "0ec6a4ac-3be1-4e95-fc5c-94ba4846b202",
        "colab": {
          "base_uri": "https://localhost:8080/",
          "height": 696
        }
      },
      "outputs": [
        {
          "output_type": "execute_result",
          "data": {
            "text/plain": [
              "    nEmbarazos  concentracionGlucosa  presionArterialSistolica  \\\n",
              "0            6                   148                        72   \n",
              "1            1                    85                        66   \n",
              "2            8                   183                        64   \n",
              "3            1                    89                        66   \n",
              "4            0                   137                        40   \n",
              "5            5                   116                        74   \n",
              "6            3                    78                        50   \n",
              "7           10                   115                         0   \n",
              "8            2                   197                        70   \n",
              "9            8                   125                        96   \n",
              "10           4                   110                        92   \n",
              "11          10                   168                        74   \n",
              "12          10                   139                        80   \n",
              "13           1                   189                        60   \n",
              "14           5                   166                        72   \n",
              "15           7                   100                         0   \n",
              "16           0                   118                        84   \n",
              "17           7                   107                        74   \n",
              "18           1                   103                        30   \n",
              "19           1                   115                        70   \n",
              "\n",
              "    pliegueCutaneo  insulinaSerica   IMC  funcionPediDiabe  edad  diabetes  \n",
              "0               35               0  33.6             0.627    50         1  \n",
              "1               29               0  26.6             0.351    31         0  \n",
              "2                0               0  23.3             0.672    32         1  \n",
              "3               23              94  28.1             0.167    21         0  \n",
              "4               35             168  43.1             2.288    33         1  \n",
              "5                0               0  25.6             0.201    30         0  \n",
              "6               32              88  31.0             0.248    26         1  \n",
              "7                0               0  35.3             0.134    29         0  \n",
              "8               45             543  30.5             0.158    53         1  \n",
              "9                0               0   0.0             0.232    54         1  \n",
              "10               0               0  37.6             0.191    30         0  \n",
              "11               0               0  38.0             0.537    34         1  \n",
              "12               0               0  27.1             1.441    57         0  \n",
              "13              23             846  30.1             0.398    59         1  \n",
              "14              19             175  25.8             0.587    51         1  \n",
              "15               0               0  30.0             0.484    32         1  \n",
              "16              47             230  45.8             0.551    31         1  \n",
              "17               0               0  29.6             0.254    31         1  \n",
              "18              38              83  43.3             0.183    33         0  \n",
              "19              30              96  34.6             0.529    32         1  "
            ],
            "text/html": [
              "\n",
              "  <div id=\"df-140729d4-93bb-44cb-926c-e94b71441b53\" class=\"colab-df-container\">\n",
              "    <div>\n",
              "<style scoped>\n",
              "    .dataframe tbody tr th:only-of-type {\n",
              "        vertical-align: middle;\n",
              "    }\n",
              "\n",
              "    .dataframe tbody tr th {\n",
              "        vertical-align: top;\n",
              "    }\n",
              "\n",
              "    .dataframe thead th {\n",
              "        text-align: right;\n",
              "    }\n",
              "</style>\n",
              "<table border=\"1\" class=\"dataframe\">\n",
              "  <thead>\n",
              "    <tr style=\"text-align: right;\">\n",
              "      <th></th>\n",
              "      <th>nEmbarazos</th>\n",
              "      <th>concentracionGlucosa</th>\n",
              "      <th>presionArterialSistolica</th>\n",
              "      <th>pliegueCutaneo</th>\n",
              "      <th>insulinaSerica</th>\n",
              "      <th>IMC</th>\n",
              "      <th>funcionPediDiabe</th>\n",
              "      <th>edad</th>\n",
              "      <th>diabetes</th>\n",
              "    </tr>\n",
              "  </thead>\n",
              "  <tbody>\n",
              "    <tr>\n",
              "      <th>0</th>\n",
              "      <td>6</td>\n",
              "      <td>148</td>\n",
              "      <td>72</td>\n",
              "      <td>35</td>\n",
              "      <td>0</td>\n",
              "      <td>33.6</td>\n",
              "      <td>0.627</td>\n",
              "      <td>50</td>\n",
              "      <td>1</td>\n",
              "    </tr>\n",
              "    <tr>\n",
              "      <th>1</th>\n",
              "      <td>1</td>\n",
              "      <td>85</td>\n",
              "      <td>66</td>\n",
              "      <td>29</td>\n",
              "      <td>0</td>\n",
              "      <td>26.6</td>\n",
              "      <td>0.351</td>\n",
              "      <td>31</td>\n",
              "      <td>0</td>\n",
              "    </tr>\n",
              "    <tr>\n",
              "      <th>2</th>\n",
              "      <td>8</td>\n",
              "      <td>183</td>\n",
              "      <td>64</td>\n",
              "      <td>0</td>\n",
              "      <td>0</td>\n",
              "      <td>23.3</td>\n",
              "      <td>0.672</td>\n",
              "      <td>32</td>\n",
              "      <td>1</td>\n",
              "    </tr>\n",
              "    <tr>\n",
              "      <th>3</th>\n",
              "      <td>1</td>\n",
              "      <td>89</td>\n",
              "      <td>66</td>\n",
              "      <td>23</td>\n",
              "      <td>94</td>\n",
              "      <td>28.1</td>\n",
              "      <td>0.167</td>\n",
              "      <td>21</td>\n",
              "      <td>0</td>\n",
              "    </tr>\n",
              "    <tr>\n",
              "      <th>4</th>\n",
              "      <td>0</td>\n",
              "      <td>137</td>\n",
              "      <td>40</td>\n",
              "      <td>35</td>\n",
              "      <td>168</td>\n",
              "      <td>43.1</td>\n",
              "      <td>2.288</td>\n",
              "      <td>33</td>\n",
              "      <td>1</td>\n",
              "    </tr>\n",
              "    <tr>\n",
              "      <th>5</th>\n",
              "      <td>5</td>\n",
              "      <td>116</td>\n",
              "      <td>74</td>\n",
              "      <td>0</td>\n",
              "      <td>0</td>\n",
              "      <td>25.6</td>\n",
              "      <td>0.201</td>\n",
              "      <td>30</td>\n",
              "      <td>0</td>\n",
              "    </tr>\n",
              "    <tr>\n",
              "      <th>6</th>\n",
              "      <td>3</td>\n",
              "      <td>78</td>\n",
              "      <td>50</td>\n",
              "      <td>32</td>\n",
              "      <td>88</td>\n",
              "      <td>31.0</td>\n",
              "      <td>0.248</td>\n",
              "      <td>26</td>\n",
              "      <td>1</td>\n",
              "    </tr>\n",
              "    <tr>\n",
              "      <th>7</th>\n",
              "      <td>10</td>\n",
              "      <td>115</td>\n",
              "      <td>0</td>\n",
              "      <td>0</td>\n",
              "      <td>0</td>\n",
              "      <td>35.3</td>\n",
              "      <td>0.134</td>\n",
              "      <td>29</td>\n",
              "      <td>0</td>\n",
              "    </tr>\n",
              "    <tr>\n",
              "      <th>8</th>\n",
              "      <td>2</td>\n",
              "      <td>197</td>\n",
              "      <td>70</td>\n",
              "      <td>45</td>\n",
              "      <td>543</td>\n",
              "      <td>30.5</td>\n",
              "      <td>0.158</td>\n",
              "      <td>53</td>\n",
              "      <td>1</td>\n",
              "    </tr>\n",
              "    <tr>\n",
              "      <th>9</th>\n",
              "      <td>8</td>\n",
              "      <td>125</td>\n",
              "      <td>96</td>\n",
              "      <td>0</td>\n",
              "      <td>0</td>\n",
              "      <td>0.0</td>\n",
              "      <td>0.232</td>\n",
              "      <td>54</td>\n",
              "      <td>1</td>\n",
              "    </tr>\n",
              "    <tr>\n",
              "      <th>10</th>\n",
              "      <td>4</td>\n",
              "      <td>110</td>\n",
              "      <td>92</td>\n",
              "      <td>0</td>\n",
              "      <td>0</td>\n",
              "      <td>37.6</td>\n",
              "      <td>0.191</td>\n",
              "      <td>30</td>\n",
              "      <td>0</td>\n",
              "    </tr>\n",
              "    <tr>\n",
              "      <th>11</th>\n",
              "      <td>10</td>\n",
              "      <td>168</td>\n",
              "      <td>74</td>\n",
              "      <td>0</td>\n",
              "      <td>0</td>\n",
              "      <td>38.0</td>\n",
              "      <td>0.537</td>\n",
              "      <td>34</td>\n",
              "      <td>1</td>\n",
              "    </tr>\n",
              "    <tr>\n",
              "      <th>12</th>\n",
              "      <td>10</td>\n",
              "      <td>139</td>\n",
              "      <td>80</td>\n",
              "      <td>0</td>\n",
              "      <td>0</td>\n",
              "      <td>27.1</td>\n",
              "      <td>1.441</td>\n",
              "      <td>57</td>\n",
              "      <td>0</td>\n",
              "    </tr>\n",
              "    <tr>\n",
              "      <th>13</th>\n",
              "      <td>1</td>\n",
              "      <td>189</td>\n",
              "      <td>60</td>\n",
              "      <td>23</td>\n",
              "      <td>846</td>\n",
              "      <td>30.1</td>\n",
              "      <td>0.398</td>\n",
              "      <td>59</td>\n",
              "      <td>1</td>\n",
              "    </tr>\n",
              "    <tr>\n",
              "      <th>14</th>\n",
              "      <td>5</td>\n",
              "      <td>166</td>\n",
              "      <td>72</td>\n",
              "      <td>19</td>\n",
              "      <td>175</td>\n",
              "      <td>25.8</td>\n",
              "      <td>0.587</td>\n",
              "      <td>51</td>\n",
              "      <td>1</td>\n",
              "    </tr>\n",
              "    <tr>\n",
              "      <th>15</th>\n",
              "      <td>7</td>\n",
              "      <td>100</td>\n",
              "      <td>0</td>\n",
              "      <td>0</td>\n",
              "      <td>0</td>\n",
              "      <td>30.0</td>\n",
              "      <td>0.484</td>\n",
              "      <td>32</td>\n",
              "      <td>1</td>\n",
              "    </tr>\n",
              "    <tr>\n",
              "      <th>16</th>\n",
              "      <td>0</td>\n",
              "      <td>118</td>\n",
              "      <td>84</td>\n",
              "      <td>47</td>\n",
              "      <td>230</td>\n",
              "      <td>45.8</td>\n",
              "      <td>0.551</td>\n",
              "      <td>31</td>\n",
              "      <td>1</td>\n",
              "    </tr>\n",
              "    <tr>\n",
              "      <th>17</th>\n",
              "      <td>7</td>\n",
              "      <td>107</td>\n",
              "      <td>74</td>\n",
              "      <td>0</td>\n",
              "      <td>0</td>\n",
              "      <td>29.6</td>\n",
              "      <td>0.254</td>\n",
              "      <td>31</td>\n",
              "      <td>1</td>\n",
              "    </tr>\n",
              "    <tr>\n",
              "      <th>18</th>\n",
              "      <td>1</td>\n",
              "      <td>103</td>\n",
              "      <td>30</td>\n",
              "      <td>38</td>\n",
              "      <td>83</td>\n",
              "      <td>43.3</td>\n",
              "      <td>0.183</td>\n",
              "      <td>33</td>\n",
              "      <td>0</td>\n",
              "    </tr>\n",
              "    <tr>\n",
              "      <th>19</th>\n",
              "      <td>1</td>\n",
              "      <td>115</td>\n",
              "      <td>70</td>\n",
              "      <td>30</td>\n",
              "      <td>96</td>\n",
              "      <td>34.6</td>\n",
              "      <td>0.529</td>\n",
              "      <td>32</td>\n",
              "      <td>1</td>\n",
              "    </tr>\n",
              "  </tbody>\n",
              "</table>\n",
              "</div>\n",
              "    <div class=\"colab-df-buttons\">\n",
              "\n",
              "  <div class=\"colab-df-container\">\n",
              "    <button class=\"colab-df-convert\" onclick=\"convertToInteractive('df-140729d4-93bb-44cb-926c-e94b71441b53')\"\n",
              "            title=\"Convert this dataframe to an interactive table.\"\n",
              "            style=\"display:none;\">\n",
              "\n",
              "  <svg xmlns=\"http://www.w3.org/2000/svg\" height=\"24px\" viewBox=\"0 -960 960 960\">\n",
              "    <path d=\"M120-120v-720h720v720H120Zm60-500h600v-160H180v160Zm220 220h160v-160H400v160Zm0 220h160v-160H400v160ZM180-400h160v-160H180v160Zm440 0h160v-160H620v160ZM180-180h160v-160H180v160Zm440 0h160v-160H620v160Z\"/>\n",
              "  </svg>\n",
              "    </button>\n",
              "\n",
              "  <style>\n",
              "    .colab-df-container {\n",
              "      display:flex;\n",
              "      gap: 12px;\n",
              "    }\n",
              "\n",
              "    .colab-df-convert {\n",
              "      background-color: #E8F0FE;\n",
              "      border: none;\n",
              "      border-radius: 50%;\n",
              "      cursor: pointer;\n",
              "      display: none;\n",
              "      fill: #1967D2;\n",
              "      height: 32px;\n",
              "      padding: 0 0 0 0;\n",
              "      width: 32px;\n",
              "    }\n",
              "\n",
              "    .colab-df-convert:hover {\n",
              "      background-color: #E2EBFA;\n",
              "      box-shadow: 0px 1px 2px rgba(60, 64, 67, 0.3), 0px 1px 3px 1px rgba(60, 64, 67, 0.15);\n",
              "      fill: #174EA6;\n",
              "    }\n",
              "\n",
              "    .colab-df-buttons div {\n",
              "      margin-bottom: 4px;\n",
              "    }\n",
              "\n",
              "    [theme=dark] .colab-df-convert {\n",
              "      background-color: #3B4455;\n",
              "      fill: #D2E3FC;\n",
              "    }\n",
              "\n",
              "    [theme=dark] .colab-df-convert:hover {\n",
              "      background-color: #434B5C;\n",
              "      box-shadow: 0px 1px 3px 1px rgba(0, 0, 0, 0.15);\n",
              "      filter: drop-shadow(0px 1px 2px rgba(0, 0, 0, 0.3));\n",
              "      fill: #FFFFFF;\n",
              "    }\n",
              "  </style>\n",
              "\n",
              "    <script>\n",
              "      const buttonEl =\n",
              "        document.querySelector('#df-140729d4-93bb-44cb-926c-e94b71441b53 button.colab-df-convert');\n",
              "      buttonEl.style.display =\n",
              "        google.colab.kernel.accessAllowed ? 'block' : 'none';\n",
              "\n",
              "      async function convertToInteractive(key) {\n",
              "        const element = document.querySelector('#df-140729d4-93bb-44cb-926c-e94b71441b53');\n",
              "        const dataTable =\n",
              "          await google.colab.kernel.invokeFunction('convertToInteractive',\n",
              "                                                    [key], {});\n",
              "        if (!dataTable) return;\n",
              "\n",
              "        const docLinkHtml = 'Like what you see? Visit the ' +\n",
              "          '<a target=\"_blank\" href=https://colab.research.google.com/notebooks/data_table.ipynb>data table notebook</a>'\n",
              "          + ' to learn more about interactive tables.';\n",
              "        element.innerHTML = '';\n",
              "        dataTable['output_type'] = 'display_data';\n",
              "        await google.colab.output.renderOutput(dataTable, element);\n",
              "        const docLink = document.createElement('div');\n",
              "        docLink.innerHTML = docLinkHtml;\n",
              "        element.appendChild(docLink);\n",
              "      }\n",
              "    </script>\n",
              "  </div>\n",
              "\n",
              "\n",
              "<div id=\"df-fd4cc0e1-8168-4c66-91a1-b2c38a5ebeb1\">\n",
              "  <button class=\"colab-df-quickchart\" onclick=\"quickchart('df-fd4cc0e1-8168-4c66-91a1-b2c38a5ebeb1')\"\n",
              "            title=\"Suggest charts\"\n",
              "            style=\"display:none;\">\n",
              "\n",
              "<svg xmlns=\"http://www.w3.org/2000/svg\" height=\"24px\"viewBox=\"0 0 24 24\"\n",
              "     width=\"24px\">\n",
              "    <g>\n",
              "        <path d=\"M19 3H5c-1.1 0-2 .9-2 2v14c0 1.1.9 2 2 2h14c1.1 0 2-.9 2-2V5c0-1.1-.9-2-2-2zM9 17H7v-7h2v7zm4 0h-2V7h2v10zm4 0h-2v-4h2v4z\"/>\n",
              "    </g>\n",
              "</svg>\n",
              "  </button>\n",
              "\n",
              "<style>\n",
              "  .colab-df-quickchart {\n",
              "      --bg-color: #E8F0FE;\n",
              "      --fill-color: #1967D2;\n",
              "      --hover-bg-color: #E2EBFA;\n",
              "      --hover-fill-color: #174EA6;\n",
              "      --disabled-fill-color: #AAA;\n",
              "      --disabled-bg-color: #DDD;\n",
              "  }\n",
              "\n",
              "  [theme=dark] .colab-df-quickchart {\n",
              "      --bg-color: #3B4455;\n",
              "      --fill-color: #D2E3FC;\n",
              "      --hover-bg-color: #434B5C;\n",
              "      --hover-fill-color: #FFFFFF;\n",
              "      --disabled-bg-color: #3B4455;\n",
              "      --disabled-fill-color: #666;\n",
              "  }\n",
              "\n",
              "  .colab-df-quickchart {\n",
              "    background-color: var(--bg-color);\n",
              "    border: none;\n",
              "    border-radius: 50%;\n",
              "    cursor: pointer;\n",
              "    display: none;\n",
              "    fill: var(--fill-color);\n",
              "    height: 32px;\n",
              "    padding: 0;\n",
              "    width: 32px;\n",
              "  }\n",
              "\n",
              "  .colab-df-quickchart:hover {\n",
              "    background-color: var(--hover-bg-color);\n",
              "    box-shadow: 0 1px 2px rgba(60, 64, 67, 0.3), 0 1px 3px 1px rgba(60, 64, 67, 0.15);\n",
              "    fill: var(--button-hover-fill-color);\n",
              "  }\n",
              "\n",
              "  .colab-df-quickchart-complete:disabled,\n",
              "  .colab-df-quickchart-complete:disabled:hover {\n",
              "    background-color: var(--disabled-bg-color);\n",
              "    fill: var(--disabled-fill-color);\n",
              "    box-shadow: none;\n",
              "  }\n",
              "\n",
              "  .colab-df-spinner {\n",
              "    border: 2px solid var(--fill-color);\n",
              "    border-color: transparent;\n",
              "    border-bottom-color: var(--fill-color);\n",
              "    animation:\n",
              "      spin 1s steps(1) infinite;\n",
              "  }\n",
              "\n",
              "  @keyframes spin {\n",
              "    0% {\n",
              "      border-color: transparent;\n",
              "      border-bottom-color: var(--fill-color);\n",
              "      border-left-color: var(--fill-color);\n",
              "    }\n",
              "    20% {\n",
              "      border-color: transparent;\n",
              "      border-left-color: var(--fill-color);\n",
              "      border-top-color: var(--fill-color);\n",
              "    }\n",
              "    30% {\n",
              "      border-color: transparent;\n",
              "      border-left-color: var(--fill-color);\n",
              "      border-top-color: var(--fill-color);\n",
              "      border-right-color: var(--fill-color);\n",
              "    }\n",
              "    40% {\n",
              "      border-color: transparent;\n",
              "      border-right-color: var(--fill-color);\n",
              "      border-top-color: var(--fill-color);\n",
              "    }\n",
              "    60% {\n",
              "      border-color: transparent;\n",
              "      border-right-color: var(--fill-color);\n",
              "    }\n",
              "    80% {\n",
              "      border-color: transparent;\n",
              "      border-right-color: var(--fill-color);\n",
              "      border-bottom-color: var(--fill-color);\n",
              "    }\n",
              "    90% {\n",
              "      border-color: transparent;\n",
              "      border-bottom-color: var(--fill-color);\n",
              "    }\n",
              "  }\n",
              "</style>\n",
              "\n",
              "  <script>\n",
              "    async function quickchart(key) {\n",
              "      const quickchartButtonEl =\n",
              "        document.querySelector('#' + key + ' button');\n",
              "      quickchartButtonEl.disabled = true;  // To prevent multiple clicks.\n",
              "      quickchartButtonEl.classList.add('colab-df-spinner');\n",
              "      try {\n",
              "        const charts = await google.colab.kernel.invokeFunction(\n",
              "            'suggestCharts', [key], {});\n",
              "      } catch (error) {\n",
              "        console.error('Error during call to suggestCharts:', error);\n",
              "      }\n",
              "      quickchartButtonEl.classList.remove('colab-df-spinner');\n",
              "      quickchartButtonEl.classList.add('colab-df-quickchart-complete');\n",
              "    }\n",
              "    (() => {\n",
              "      let quickchartButtonEl =\n",
              "        document.querySelector('#df-fd4cc0e1-8168-4c66-91a1-b2c38a5ebeb1 button');\n",
              "      quickchartButtonEl.style.display =\n",
              "        google.colab.kernel.accessAllowed ? 'block' : 'none';\n",
              "    })();\n",
              "  </script>\n",
              "</div>\n",
              "\n",
              "    </div>\n",
              "  </div>\n"
            ],
            "application/vnd.google.colaboratory.intrinsic+json": {
              "type": "dataframe",
              "variable_name": "df_base",
              "summary": "{\n  \"name\": \"df_base\",\n  \"rows\": 768,\n  \"fields\": [\n    {\n      \"column\": \"nEmbarazos\",\n      \"properties\": {\n        \"dtype\": \"number\",\n        \"std\": 3,\n        \"min\": 0,\n        \"max\": 17,\n        \"num_unique_values\": 17,\n        \"samples\": [\n          6,\n          1,\n          3\n        ],\n        \"semantic_type\": \"\",\n        \"description\": \"\"\n      }\n    },\n    {\n      \"column\": \"concentracionGlucosa\",\n      \"properties\": {\n        \"dtype\": \"number\",\n        \"std\": 31,\n        \"min\": 0,\n        \"max\": 199,\n        \"num_unique_values\": 136,\n        \"samples\": [\n          151,\n          101,\n          112\n        ],\n        \"semantic_type\": \"\",\n        \"description\": \"\"\n      }\n    },\n    {\n      \"column\": \"presionArterialSistolica\",\n      \"properties\": {\n        \"dtype\": \"number\",\n        \"std\": 19,\n        \"min\": 0,\n        \"max\": 122,\n        \"num_unique_values\": 47,\n        \"samples\": [\n          86,\n          46,\n          85\n        ],\n        \"semantic_type\": \"\",\n        \"description\": \"\"\n      }\n    },\n    {\n      \"column\": \"pliegueCutaneo\",\n      \"properties\": {\n        \"dtype\": \"number\",\n        \"std\": 15,\n        \"min\": 0,\n        \"max\": 99,\n        \"num_unique_values\": 51,\n        \"samples\": [\n          7,\n          12,\n          48\n        ],\n        \"semantic_type\": \"\",\n        \"description\": \"\"\n      }\n    },\n    {\n      \"column\": \"insulinaSerica\",\n      \"properties\": {\n        \"dtype\": \"number\",\n        \"std\": 115,\n        \"min\": 0,\n        \"max\": 846,\n        \"num_unique_values\": 186,\n        \"samples\": [\n          52,\n          41,\n          183\n        ],\n        \"semantic_type\": \"\",\n        \"description\": \"\"\n      }\n    },\n    {\n      \"column\": \"IMC\",\n      \"properties\": {\n        \"dtype\": \"number\",\n        \"std\": 7.8841603203754405,\n        \"min\": 0.0,\n        \"max\": 67.1,\n        \"num_unique_values\": 248,\n        \"samples\": [\n          19.9,\n          31.0,\n          38.1\n        ],\n        \"semantic_type\": \"\",\n        \"description\": \"\"\n      }\n    },\n    {\n      \"column\": \"funcionPediDiabe\",\n      \"properties\": {\n        \"dtype\": \"number\",\n        \"std\": 0.33132859501277484,\n        \"min\": 0.078,\n        \"max\": 2.42,\n        \"num_unique_values\": 517,\n        \"samples\": [\n          1.731,\n          0.426,\n          0.138\n        ],\n        \"semantic_type\": \"\",\n        \"description\": \"\"\n      }\n    },\n    {\n      \"column\": \"edad\",\n      \"properties\": {\n        \"dtype\": \"number\",\n        \"std\": 11,\n        \"min\": 21,\n        \"max\": 81,\n        \"num_unique_values\": 52,\n        \"samples\": [\n          60,\n          47,\n          72\n        ],\n        \"semantic_type\": \"\",\n        \"description\": \"\"\n      }\n    },\n    {\n      \"column\": \"diabetes\",\n      \"properties\": {\n        \"dtype\": \"number\",\n        \"std\": 0,\n        \"min\": 0,\n        \"max\": 1,\n        \"num_unique_values\": 2,\n        \"samples\": [\n          0,\n          1\n        ],\n        \"semantic_type\": \"\",\n        \"description\": \"\"\n      }\n    }\n  ]\n}"
            }
          },
          "metadata": {},
          "execution_count": 9
        }
      ],
      "source": [
        "df_base.head(20)"
      ]
    },
    {
      "cell_type": "code",
      "execution_count": 10,
      "metadata": {
        "id": "Q-JC0B1ZVqMJ",
        "outputId": "beaa7784-5dd8-4e2e-bfa2-fb3253a978f7",
        "colab": {
          "base_uri": "https://localhost:8080/",
          "height": 723
        }
      },
      "outputs": [
        {
          "output_type": "display_data",
          "data": {
            "text/plain": [
              "<Figure size 2000x1000 with 2 Axes>"
            ],
            "image/png": "[encoded data removed]"
          },
          "metadata": {}
        }
      ],
      "source": [
        "import seaborn as sns\n",
        "import matplotlib.pyplot as plt\n",
        "\n",
        "corr= df_base.corr()\n",
        "ax = sns.heatmap(\n",
        "    corr,\n",
        "    vmin=-1, vmax=1, center=0,\n",
        "    cmap=sns.diverging_palette(20, 220, n=200),\n",
        "    square=True\n",
        ")\n",
        "ax.set_xticklabels(\n",
        "    ax.get_xticklabels(),\n",
        "    rotation=45,\n",
        "    horizontalalignment='right'\n",
        ");"
      ]
    },
    {
      "cell_type": "markdown",
      "metadata": {
        "id": "36VCbRM-VqMK"
      },
      "source": [
        "# 3.- Tratamiento de missing."
      ]
    },
    {
      "cell_type": "markdown",
      "metadata": {
        "id": "35mgnPFgVqMK"
      },
      "source": [
        "Antes de realizar cualquier evaluación sobre los datos es importante siempre realizar un tratamiento previo con el fin de abordar el problema de los datos faltantes. Se citan algunos ejemplos:\n",
        "* Si la cantidad de datos faltantes es muy grande se recomienda borrar estas variables.\n",
        "* Si existe una cantidad pequeña de filas con datos faltantes en sus variables se puede optar por borrarlas.\n",
        "* Para variables categóricas se puede agregar un estado adicional que describa este factor.\n",
        "* Se puede llenar los datos faltantes con la media, mediana o moda de la variable tanto para variables numéricas o categóricas.\n",
        "* Para variables categóricas, se puede optar por una asignación aleatoria de categorías escogiendo aquellas que se encuentren presentes en esa variable, tratado de buscar que se encuentren uniformemente distribuidas.\n",
        "* En ocasiones no existen valores faltantes o nulos, existen valores en cero que realmente están reflejando datos faltantes.\n"
      ]
    },
    {
      "cell_type": "markdown",
      "metadata": {
        "id": "aPPe1tnsVqMK"
      },
      "source": [
        "## Se obtiene las columnas que tienen datos faltantes."
      ]
    },
    {
      "cell_type": "code",
      "execution_count": 11,
      "metadata": {
        "id": "6nsyHhRKVqMK",
        "outputId": "97c73680-5fd6-4b0c-a2db-3070ea1cec56",
        "colab": {
          "base_uri": "https://localhost:8080/",
          "height": 84
        }
      },
      "outputs": [
        {
          "output_type": "display_data",
          "data": {
            "text/plain": [
              "Series([], dtype: int64)"
            ],
            "text/html": [
              "<div>\n",
              "<style scoped>\n",
              "    .dataframe tbody tr th:only-of-type {\n",
              "        vertical-align: middle;\n",
              "    }\n",
              "\n",
              "    .dataframe tbody tr th {\n",
              "        vertical-align: top;\n",
              "    }\n",
              "\n",
              "    .dataframe thead th {\n",
              "        text-align: right;\n",
              "    }\n",
              "</style>\n",
              "<table border=\"1\" class=\"dataframe\">\n",
              "  <thead>\n",
              "    <tr style=\"text-align: right;\">\n",
              "      <th></th>\n",
              "      <th>0</th>\n",
              "    </tr>\n",
              "  </thead>\n",
              "  <tbody>\n",
              "  </tbody>\n",
              "</table>\n",
              "</div><br><label><b>dtype:</b> int64</label>"
            ]
          },
          "metadata": {}
        }
      ],
      "source": [
        "col_total_nulos = df_base.isnull().sum()\n",
        "serie_col_nombres = col_total_nulos[col_total_nulos > 0]\n",
        "display(serie_col_nombres)"
      ]
    },
    {
      "cell_type": "markdown",
      "metadata": {
        "id": "Cfdt99JSVqML"
      },
      "source": [
        "No existen valores faltantes"
      ]
    },
    {
      "cell_type": "markdown",
      "metadata": {
        "id": "hUUuBdmyVqML"
      },
      "source": [
        "## Revisar valores en cero"
      ]
    },
    {
      "cell_type": "markdown",
      "metadata": {
        "id": "cg2EQdYJVqML"
      },
      "source": [
        "Si observamos el resultado del describe del análisis exploratorio de los datos, podemos ver que hay muchas columnas con valor mínimo en cero. Y no tiene mucho sentido, así que se trata de valores faltantes. Las siguientes columnas no deben tener valor en cero.\n",
        "\n",
        "* Concentración de Glucosa\n",
        "* Presión arterial diastólica\n",
        "* Pliegue cutáneo en triceps\n",
        "* Insulina sérica\n",
        "* Indice de Masa Corporal IMC."
      ]
    },
    {
      "cell_type": "markdown",
      "metadata": {
        "id": "e-LJP5DbVqML"
      },
      "source": [
        "Si vemos las 20 primeras filas del análisis exploratorio de los datos, podemos ver ceros en la columna 3, 4 y 5. Contemos ahora los ceros que existen en cada columna del dataset.\n",
        "### Sumemos los ceros por columna"
      ]
    },
    {
      "cell_type": "code",
      "execution_count": 17,
      "metadata": {
        "id": "vjIkcVf9VqML",
        "outputId": "19b48d63-0953-46a6-94f7-27511afccbfe",
        "colab": {
          "base_uri": "https://localhost:8080/",
          "height": 366
        }
      },
      "outputs": [
        {
          "output_type": "execute_result",
          "data": {
            "text/plain": [
              "nEmbarazos                  0\n",
              "concentracionGlucosa        0\n",
              "presionArterialSistolica    0\n",
              "pliegueCutaneo              0\n",
              "insulinaSerica              0\n",
              "IMC                         0\n",
              "funcionPediDiabe            0\n",
              "edad                        0\n",
              "diabetes                    0\n",
              "dtype: int64"
            ],
            "text/html": [
              "<div>\n",
              "<style scoped>\n",
              "    .dataframe tbody tr th:only-of-type {\n",
              "        vertical-align: middle;\n",
              "    }\n",
              "\n",
              "    .dataframe tbody tr th {\n",
              "        vertical-align: top;\n",
              "    }\n",
              "\n",
              "    .dataframe thead th {\n",
              "        text-align: right;\n",
              "    }\n",
              "</style>\n",
              "<table border=\"1\" class=\"dataframe\">\n",
              "  <thead>\n",
              "    <tr style=\"text-align: right;\">\n",
              "      <th></th>\n",
              "      <th>0</th>\n",
              "    </tr>\n",
              "  </thead>\n",
              "  <tbody>\n",
              "    <tr>\n",
              "      <th>nEmbarazos</th>\n",
              "      <td>0</td>\n",
              "    </tr>\n",
              "    <tr>\n",
              "      <th>concentracionGlucosa</th>\n",
              "      <td>0</td>\n",
              "    </tr>\n",
              "    <tr>\n",
              "      <th>presionArterialSistolica</th>\n",
              "      <td>0</td>\n",
              "    </tr>\n",
              "    <tr>\n",
              "      <th>pliegueCutaneo</th>\n",
              "      <td>0</td>\n",
              "    </tr>\n",
              "    <tr>\n",
              "      <th>insulinaSerica</th>\n",
              "      <td>0</td>\n",
              "    </tr>\n",
              "    <tr>\n",
              "      <th>IMC</th>\n",
              "      <td>0</td>\n",
              "    </tr>\n",
              "    <tr>\n",
              "      <th>funcionPediDiabe</th>\n",
              "      <td>0</td>\n",
              "    </tr>\n",
              "    <tr>\n",
              "      <th>edad</th>\n",
              "      <td>0</td>\n",
              "    </tr>\n",
              "    <tr>\n",
              "      <th>diabetes</th>\n",
              "      <td>0</td>\n",
              "    </tr>\n",
              "  </tbody>\n",
              "</table>\n",
              "</div><br><label><b>dtype:</b> int64</label>"
            ]
          },
          "metadata": {},
          "execution_count": 17
        }
      ],
      "source": [
        "(df_base==0).sum(axis=0)"
      ]
    },
    {
      "cell_type": "markdown",
      "metadata": {
        "id": "A78ZO698VqML"
      },
      "source": [
        "Podemos ver que las columnas 2,3 y 6 tienen pocas filas con valores en cero. Pero las columnas 4 y 5 casi la mitad de los datos están en cero. Así que necesitaremos diferentes estrategias para poder llenar los valores faltantes."
      ]
    },
    {
      "cell_type": "markdown",
      "metadata": {
        "id": "dXyp7sMKVqML"
      },
      "source": [
        "# 4.- Manejo de valores faltantes"
      ]
    },
    {
      "cell_type": "markdown",
      "metadata": {
        "id": "h27vqBNvVqMM"
      },
      "source": [
        "## **4.1. Escriba el código que permita reemplazar ceros con valores 'NAN':**"
      ]
    },
    {
      "cell_type": "code",
      "execution_count": 13,
      "metadata": {
        "id": "Y96FqAFFVqMM"
      },
      "outputs": [],
      "source": [
        "# Reemplazar '0' con valores 'nan' para los atributos: concentracionGlucosa, presionArterialSistolica, pliegueCutaneo, insulinaSerica e IMC\n",
        "df_base.replace(0, np.nan, inplace=True)\n",
        "\n",
        "\n"
      ]
    },
    {
      "cell_type": "markdown",
      "metadata": {
        "id": "4B1aK5eGVqMM"
      },
      "source": [
        "## Eliminar filas con valores faltantes"
      ]
    },
    {
      "cell_type": "markdown",
      "metadata": {
        "id": "PN3bqfhaVqMM"
      },
      "source": [
        "La estrategia más sencilla para manejar los datos faltantes es eliminar los registros que contienen un valor perdido.\n",
        "\n",
        "Podemos hacer esto creando un nuevo Pandas DataFrame con las filas que contienen los valores faltantes\n",
        "\n",
        "Pandas proporciona la función dropna () que se puede utilizar para eliminar columnas o filas con datos faltantes. Podemos usar dropna () para eliminar todas las filas con datos faltantes, de la siguiente manera:"
      ]
    },
    {
      "cell_type": "code",
      "execution_count": 14,
      "metadata": {
        "id": "jI_Jk_gaVqMM",
        "outputId": "1dfd6a62-d5b3-4677-a0ba-8ad24066c2c2",
        "colab": {
          "base_uri": "https://localhost:8080/"
        }
      },
      "outputs": [
        {
          "output_type": "stream",
          "name": "stdout",
          "text": [
            "(768, 9)\n"
          ]
        }
      ],
      "source": [
        "from numpy import nan\n",
        "df_base_missing_dropn=df_base.copy()\n",
        "# Revisar cuántas filas y columnas tiene df_base_missing_dropn\n",
        "print(df_base_missing_dropn.shape)\n"
      ]
    },
    {
      "cell_type": "code",
      "source": [
        "df_base_missing_dropn.dropna(axis=0, inplace=True)\n",
        "print(df_base_missing_dropn.shape)"
      ],
      "metadata": {
        "colab": {
          "base_uri": "https://localhost:8080/"
        },
        "id": "2p9BaPtg8-ZK",
        "outputId": "be923197-6386-4c70-8dcd-12f011cb4a57"
      },
      "execution_count": 32,
      "outputs": [
        {
          "output_type": "stream",
          "name": "stdout",
          "text": [
            "(111, 9)\n"
          ]
        }
      ]
    },
    {
      "cell_type": "code",
      "source": [
        "print(df_base_missing_dropn)"
      ],
      "metadata": {
        "colab": {
          "base_uri": "https://localhost:8080/"
        },
        "id": "dnDifGzG9zTU",
        "outputId": "df14b734-859a-467f-e91d-58477c54fb78"
      },
      "execution_count": 33,
      "outputs": [
        {
          "output_type": "stream",
          "name": "stdout",
          "text": [
            "     nEmbarazos  concentracionGlucosa  presionArterialSistolica  \\\n",
            "6           3.0                  78.0                      50.0   \n",
            "8           2.0                 197.0                      70.0   \n",
            "13          1.0                 189.0                      60.0   \n",
            "14          5.0                 166.0                      72.0   \n",
            "19          1.0                 115.0                      70.0   \n",
            "..          ...                   ...                       ...   \n",
            "730         3.0                 130.0                      78.0   \n",
            "732         2.0                 174.0                      88.0   \n",
            "740        11.0                 120.0                      80.0   \n",
            "748         3.0                 187.0                      70.0   \n",
            "755         1.0                 128.0                      88.0   \n",
            "\n",
            "     pliegueCutaneo  insulinaSerica   IMC  funcionPediDiabe  edad  diabetes  \n",
            "6              32.0            88.0  31.0             0.248    26       1.0  \n",
            "8              45.0           543.0  30.5             0.158    53       1.0  \n",
            "13             23.0           846.0  30.1             0.398    59       1.0  \n",
            "14             19.0           175.0  25.8             0.587    51       1.0  \n",
            "19             30.0            96.0  34.6             0.529    32       1.0  \n",
            "..              ...             ...   ...               ...   ...       ...  \n",
            "730            23.0            79.0  28.4             0.323    34       1.0  \n",
            "732            37.0           120.0  44.5             0.646    24       1.0  \n",
            "740            37.0           150.0  42.3             0.785    48       1.0  \n",
            "748            22.0           200.0  36.4             0.408    36       1.0  \n",
            "755            39.0           110.0  36.5             1.057    37       1.0  \n",
            "\n",
            "[111 rows x 9 columns]\n"
          ]
        }
      ]
    },
    {
      "cell_type": "markdown",
      "metadata": {
        "id": "eNQ4_Ks4VqMM"
      },
      "source": [
        "## **4.2. Escriba el código que permita eliminar filas con valores faltantes:**"
      ]
    },
    {
      "cell_type": "code",
      "execution_count": 15,
      "metadata": {
        "id": "YpXBzmKsVqMN",
        "colab": {
          "base_uri": "https://localhost:8080/"
        },
        "outputId": "c06e2c89-bd4c-4c9f-858a-567ca2c73dd9"
      },
      "outputs": [
        {
          "output_type": "stream",
          "name": "stdout",
          "text": [
            "     nEmbarazos  concentracionGlucosa  presionArterialSistolica  \\\n",
            "0           6.0                 148.0                      72.0   \n",
            "1           1.0                  85.0                      66.0   \n",
            "2           8.0                 183.0                      64.0   \n",
            "3           1.0                  89.0                      66.0   \n",
            "4           NaN                 137.0                      40.0   \n",
            "..          ...                   ...                       ...   \n",
            "763        10.0                 101.0                      76.0   \n",
            "764         2.0                 122.0                      70.0   \n",
            "765         5.0                 121.0                      72.0   \n",
            "766         1.0                 126.0                      60.0   \n",
            "767         1.0                  93.0                      70.0   \n",
            "\n",
            "     pliegueCutaneo  insulinaSerica   IMC  funcionPediDiabe  edad  diabetes  \n",
            "0              35.0             NaN  33.6             0.627    50       1.0  \n",
            "1              29.0             NaN  26.6             0.351    31       NaN  \n",
            "2               NaN             NaN  23.3             0.672    32       1.0  \n",
            "3              23.0            94.0  28.1             0.167    21       NaN  \n",
            "4              35.0           168.0  43.1             2.288    33       1.0  \n",
            "..              ...             ...   ...               ...   ...       ...  \n",
            "763            48.0           180.0  32.9             0.171    63       NaN  \n",
            "764            27.0             NaN  36.8             0.340    27       NaN  \n",
            "765            23.0           112.0  26.2             0.245    30       NaN  \n",
            "766             NaN             NaN  30.1             0.349    47       1.0  \n",
            "767            31.0             NaN  30.4             0.315    23       NaN  \n",
            "\n",
            "[768 rows x 9 columns]\n"
          ]
        }
      ],
      "source": [
        "df_base_missing_dropncolumns = pd.DataFrame(data=df_base_missing_dropn)\n",
        "print(df_base_missing_dropncolumns)"
      ]
    },
    {
      "cell_type": "code",
      "source": [
        "df_base_missing_dropncolumns = pd.DataFrame(data=df_base_missing_dropn)\n",
        "df_base_missing_dropncolumns.dropna(inplace=True)\n",
        "print(df_base_missing_dropncolumns)\n"
      ],
      "metadata": {
        "colab": {
          "base_uri": "https://localhost:8080/"
        },
        "id": "Jb-ySr8ZkU52",
        "outputId": "c6383bea-bec1-4a04-9002-984c264d29d5"
      },
      "execution_count": 16,
      "outputs": [
        {
          "output_type": "stream",
          "name": "stdout",
          "text": [
            "     nEmbarazos  concentracionGlucosa  presionArterialSistolica  \\\n",
            "6           3.0                  78.0                      50.0   \n",
            "8           2.0                 197.0                      70.0   \n",
            "13          1.0                 189.0                      60.0   \n",
            "14          5.0                 166.0                      72.0   \n",
            "19          1.0                 115.0                      70.0   \n",
            "..          ...                   ...                       ...   \n",
            "730         3.0                 130.0                      78.0   \n",
            "732         2.0                 174.0                      88.0   \n",
            "740        11.0                 120.0                      80.0   \n",
            "748         3.0                 187.0                      70.0   \n",
            "755         1.0                 128.0                      88.0   \n",
            "\n",
            "     pliegueCutaneo  insulinaSerica   IMC  funcionPediDiabe  edad  diabetes  \n",
            "6              32.0            88.0  31.0             0.248    26       1.0  \n",
            "8              45.0           543.0  30.5             0.158    53       1.0  \n",
            "13             23.0           846.0  30.1             0.398    59       1.0  \n",
            "14             19.0           175.0  25.8             0.587    51       1.0  \n",
            "19             30.0            96.0  34.6             0.529    32       1.0  \n",
            "..              ...             ...   ...               ...   ...       ...  \n",
            "730            23.0            79.0  28.4             0.323    34       1.0  \n",
            "732            37.0           120.0  44.5             0.646    24       1.0  \n",
            "740            37.0           150.0  42.3             0.785    48       1.0  \n",
            "748            22.0           200.0  36.4             0.408    36       1.0  \n",
            "755            39.0           110.0  36.5             1.057    37       1.0  \n",
            "\n",
            "[111 rows x 9 columns]\n"
          ]
        }
      ]
    },
    {
      "cell_type": "markdown",
      "metadata": {
        "id": "pTukp0rgVqMN"
      },
      "source": [
        "## Eliminar columnas con un % de valores faltantes\n",
        "Ahora eliminemos aquellas columnas que tienen un % de nulos mayor a un parámetro definido previamente."
      ]
    },
    {
      "cell_type": "code",
      "execution_count": 18,
      "metadata": {
        "id": "fov8xviDVqMN"
      },
      "outputs": [],
      "source": [
        "df_base_missing_dropnColumns=df_base.copy()\n",
        "perc = 25.0 # mayor al 25% de valores faltantes\n",
        "min_count =  int(((100-perc)/100)*df_base_missing_dropnColumns.shape[0] + 1)\n",
        "df_base_missing_dropnColumns = df_base_missing_dropnColumns.dropna( axis=1,\n",
        "                    thresh=min_count)"
      ]
    },
    {
      "cell_type": "code",
      "execution_count": 19,
      "metadata": {
        "id": "jHwIkQaBVqMN",
        "outputId": "e100e49a-ee49-4e70-8fd5-d1a31a8293b3",
        "colab": {
          "base_uri": "https://localhost:8080/"
        }
      },
      "outputs": [
        {
          "output_type": "execute_result",
          "data": {
            "text/plain": [
              "(768, 6)"
            ]
          },
          "metadata": {},
          "execution_count": 19
        }
      ],
      "source": [
        "df_base_missing_dropnColumns.shape"
      ]
    },
    {
      "cell_type": "code",
      "execution_count": 20,
      "metadata": {
        "id": "fe7VOqilVqMN",
        "outputId": "c95b8f8a-8996-4c74-cdb3-c94ff162fc70",
        "colab": {
          "base_uri": "https://localhost:8080/",
          "height": 676
        }
      },
      "outputs": [
        {
          "output_type": "execute_result",
          "data": {
            "text/plain": [
              "    nEmbarazos  concentracionGlucosa  presionArterialSistolica   IMC  \\\n",
              "0          6.0                 148.0                      72.0  33.6   \n",
              "1          1.0                  85.0                      66.0  26.6   \n",
              "2          8.0                 183.0                      64.0  23.3   \n",
              "3          1.0                  89.0                      66.0  28.1   \n",
              "4          NaN                 137.0                      40.0  43.1   \n",
              "5          5.0                 116.0                      74.0  25.6   \n",
              "6          3.0                  78.0                      50.0  31.0   \n",
              "7         10.0                 115.0                       NaN  35.3   \n",
              "8          2.0                 197.0                      70.0  30.5   \n",
              "9          8.0                 125.0                      96.0   NaN   \n",
              "10         4.0                 110.0                      92.0  37.6   \n",
              "11        10.0                 168.0                      74.0  38.0   \n",
              "12        10.0                 139.0                      80.0  27.1   \n",
              "13         1.0                 189.0                      60.0  30.1   \n",
              "14         5.0                 166.0                      72.0  25.8   \n",
              "15         7.0                 100.0                       NaN  30.0   \n",
              "16         NaN                 118.0                      84.0  45.8   \n",
              "17         7.0                 107.0                      74.0  29.6   \n",
              "18         1.0                 103.0                      30.0  43.3   \n",
              "19         1.0                 115.0                      70.0  34.6   \n",
              "\n",
              "    funcionPediDiabe  edad  \n",
              "0              0.627    50  \n",
              "1              0.351    31  \n",
              "2              0.672    32  \n",
              "3              0.167    21  \n",
              "4              2.288    33  \n",
              "5              0.201    30  \n",
              "6              0.248    26  \n",
              "7              0.134    29  \n",
              "8              0.158    53  \n",
              "9              0.232    54  \n",
              "10             0.191    30  \n",
              "11             0.537    34  \n",
              "12             1.441    57  \n",
              "13             0.398    59  \n",
              "14             0.587    51  \n",
              "15             0.484    32  \n",
              "16             0.551    31  \n",
              "17             0.254    31  \n",
              "18             0.183    33  \n",
              "19             0.529    32  "
            ],
            "text/html": [
              "\n",
              "  <div id=\"df-e97fa096-7a01-4455-a371-9da472dbfcbf\" class=\"colab-df-container\">\n",
              "    <div>\n",
              "<style scoped>\n",
              "    .dataframe tbody tr th:only-of-type {\n",
              "        vertical-align: middle;\n",
              "    }\n",
              "\n",
              "    .dataframe tbody tr th {\n",
              "        vertical-align: top;\n",
              "    }\n",
              "\n",
              "    .dataframe thead th {\n",
              "        text-align: right;\n",
              "    }\n",
              "</style>\n",
              "<table border=\"1\" class=\"dataframe\">\n",
              "  <thead>\n",
              "    <tr style=\"text-align: right;\">\n",
              "      <th></th>\n",
              "      <th>nEmbarazos</th>\n",
              "      <th>concentracionGlucosa</th>\n",
              "      <th>presionArterialSistolica</th>\n",
              "      <th>IMC</th>\n",
              "      <th>funcionPediDiabe</th>\n",
              "      <th>edad</th>\n",
              "    </tr>\n",
              "  </thead>\n",
              "  <tbody>\n",
              "    <tr>\n",
              "      <th>0</th>\n",
              "      <td>6.0</td>\n",
              "      <td>148.0</td>\n",
              "      <td>72.0</td>\n",
              "      <td>33.6</td>\n",
              "      <td>0.627</td>\n",
              "      <td>50</td>\n",
              "    </tr>\n",
              "    <tr>\n",
              "      <th>1</th>\n",
              "      <td>1.0</td>\n",
              "      <td>85.0</td>\n",
              "      <td>66.0</td>\n",
              "      <td>26.6</td>\n",
              "      <td>0.351</td>\n",
              "      <td>31</td>\n",
              "    </tr>\n",
              "    <tr>\n",
              "      <th>2</th>\n",
              "      <td>8.0</td>\n",
              "      <td>183.0</td>\n",
              "      <td>64.0</td>\n",
              "      <td>23.3</td>\n",
              "      <td>0.672</td>\n",
              "      <td>32</td>\n",
              "    </tr>\n",
              "    <tr>\n",
              "      <th>3</th>\n",
              "      <td>1.0</td>\n",
              "      <td>89.0</td>\n",
              "      <td>66.0</td>\n",
              "      <td>28.1</td>\n",
              "      <td>0.167</td>\n",
              "      <td>21</td>\n",
              "    </tr>\n",
              "    <tr>\n",
              "      <th>4</th>\n",
              "      <td>NaN</td>\n",
              "      <td>137.0</td>\n",
              "      <td>40.0</td>\n",
              "      <td>43.1</td>\n",
              "      <td>2.288</td>\n",
              "      <td>33</td>\n",
              "    </tr>\n",
              "    <tr>\n",
              "      <th>5</th>\n",
              "      <td>5.0</td>\n",
              "      <td>116.0</td>\n",
              "      <td>74.0</td>\n",
              "      <td>25.6</td>\n",
              "      <td>0.201</td>\n",
              "      <td>30</td>\n",
              "    </tr>\n",
              "    <tr>\n",
              "      <th>6</th>\n",
              "      <td>3.0</td>\n",
              "      <td>78.0</td>\n",
              "      <td>50.0</td>\n",
              "      <td>31.0</td>\n",
              "      <td>0.248</td>\n",
              "      <td>26</td>\n",
              "    </tr>\n",
              "    <tr>\n",
              "      <th>7</th>\n",
              "      <td>10.0</td>\n",
              "      <td>115.0</td>\n",
              "      <td>NaN</td>\n",
              "      <td>35.3</td>\n",
              "      <td>0.134</td>\n",
              "      <td>29</td>\n",
              "    </tr>\n",
              "    <tr>\n",
              "      <th>8</th>\n",
              "      <td>2.0</td>\n",
              "      <td>197.0</td>\n",
              "      <td>70.0</td>\n",
              "      <td>30.5</td>\n",
              "      <td>0.158</td>\n",
              "      <td>53</td>\n",
              "    </tr>\n",
              "    <tr>\n",
              "      <th>9</th>\n",
              "      <td>8.0</td>\n",
              "      <td>125.0</td>\n",
              "      <td>96.0</td>\n",
              "      <td>NaN</td>\n",
              "      <td>0.232</td>\n",
              "      <td>54</td>\n",
              "    </tr>\n",
              "    <tr>\n",
              "      <th>10</th>\n",
              "      <td>4.0</td>\n",
              "      <td>110.0</td>\n",
              "      <td>92.0</td>\n",
              "      <td>37.6</td>\n",
              "      <td>0.191</td>\n",
              "      <td>30</td>\n",
              "    </tr>\n",
              "    <tr>\n",
              "      <th>11</th>\n",
              "      <td>10.0</td>\n",
              "      <td>168.0</td>\n",
              "      <td>74.0</td>\n",
              "      <td>38.0</td>\n",
              "      <td>0.537</td>\n",
              "      <td>34</td>\n",
              "    </tr>\n",
              "    <tr>\n",
              "      <th>12</th>\n",
              "      <td>10.0</td>\n",
              "      <td>139.0</td>\n",
              "      <td>80.0</td>\n",
              "      <td>27.1</td>\n",
              "      <td>1.441</td>\n",
              "      <td>57</td>\n",
              "    </tr>\n",
              "    <tr>\n",
              "      <th>13</th>\n",
              "      <td>1.0</td>\n",
              "      <td>189.0</td>\n",
              "      <td>60.0</td>\n",
              "      <td>30.1</td>\n",
              "      <td>0.398</td>\n",
              "      <td>59</td>\n",
              "    </tr>\n",
              "    <tr>\n",
              "      <th>14</th>\n",
              "      <td>5.0</td>\n",
              "      <td>166.0</td>\n",
              "      <td>72.0</td>\n",
              "      <td>25.8</td>\n",
              "      <td>0.587</td>\n",
              "      <td>51</td>\n",
              "    </tr>\n",
              "    <tr>\n",
              "      <th>15</th>\n",
              "      <td>7.0</td>\n",
              "      <td>100.0</td>\n",
              "      <td>NaN</td>\n",
              "      <td>30.0</td>\n",
              "      <td>0.484</td>\n",
              "      <td>32</td>\n",
              "    </tr>\n",
              "    <tr>\n",
              "      <th>16</th>\n",
              "      <td>NaN</td>\n",
              "      <td>118.0</td>\n",
              "      <td>84.0</td>\n",
              "      <td>45.8</td>\n",
              "      <td>0.551</td>\n",
              "      <td>31</td>\n",
              "    </tr>\n",
              "    <tr>\n",
              "      <th>17</th>\n",
              "      <td>7.0</td>\n",
              "      <td>107.0</td>\n",
              "      <td>74.0</td>\n",
              "      <td>29.6</td>\n",
              "      <td>0.254</td>\n",
              "      <td>31</td>\n",
              "    </tr>\n",
              "    <tr>\n",
              "      <th>18</th>\n",
              "      <td>1.0</td>\n",
              "      <td>103.0</td>\n",
              "      <td>30.0</td>\n",
              "      <td>43.3</td>\n",
              "      <td>0.183</td>\n",
              "      <td>33</td>\n",
              "    </tr>\n",
              "    <tr>\n",
              "      <th>19</th>\n",
              "      <td>1.0</td>\n",
              "      <td>115.0</td>\n",
              "      <td>70.0</td>\n",
              "      <td>34.6</td>\n",
              "      <td>0.529</td>\n",
              "      <td>32</td>\n",
              "    </tr>\n",
              "  </tbody>\n",
              "</table>\n",
              "</div>\n",
              "    <div class=\"colab-df-buttons\">\n",
              "\n",
              "  <div class=\"colab-df-container\">\n",
              "    <button class=\"colab-df-convert\" onclick=\"convertToInteractive('df-e97fa096-7a01-4455-a371-9da472dbfcbf')\"\n",
              "            title=\"Convert this dataframe to an interactive table.\"\n",
              "            style=\"display:none;\">\n",
              "\n",
              "  <svg xmlns=\"http://www.w3.org/2000/svg\" height=\"24px\" viewBox=\"0 -960 960 960\">\n",
              "    <path d=\"M120-120v-720h720v720H120Zm60-500h600v-160H180v160Zm220 220h160v-160H400v160Zm0 220h160v-160H400v160ZM180-400h160v-160H180v160Zm440 0h160v-160H620v160ZM180-180h160v-160H180v160Zm440 0h160v-160H620v160Z\"/>\n",
              "  </svg>\n",
              "    </button>\n",
              "\n",
              "  <style>\n",
              "    .colab-df-container {\n",
              "      display:flex;\n",
              "      gap: 12px;\n",
              "    }\n",
              "\n",
              "    .colab-df-convert {\n",
              "      background-color: #E8F0FE;\n",
              "      border: none;\n",
              "      border-radius: 50%;\n",
              "      cursor: pointer;\n",
              "      display: none;\n",
              "      fill: #1967D2;\n",
              "      height: 32px;\n",
              "      padding: 0 0 0 0;\n",
              "      width: 32px;\n",
              "    }\n",
              "\n",
              "    .colab-df-convert:hover {\n",
              "      background-color: #E2EBFA;\n",
              "      box-shadow: 0px 1px 2px rgba(60, 64, 67, 0.3), 0px 1px 3px 1px rgba(60, 64, 67, 0.15);\n",
              "      fill: #174EA6;\n",
              "    }\n",
              "\n",
              "    .colab-df-buttons div {\n",
              "      margin-bottom: 4px;\n",
              "    }\n",
              "\n",
              "    [theme=dark] .colab-df-convert {\n",
              "      background-color: #3B4455;\n",
              "      fill: #D2E3FC;\n",
              "    }\n",
              "\n",
              "    [theme=dark] .colab-df-convert:hover {\n",
              "      background-color: #434B5C;\n",
              "      box-shadow: 0px 1px 3px 1px rgba(0, 0, 0, 0.15);\n",
              "      filter: drop-shadow(0px 1px 2px rgba(0, 0, 0, 0.3));\n",
              "      fill: #FFFFFF;\n",
              "    }\n",
              "  </style>\n",
              "\n",
              "    <script>\n",
              "      const buttonEl =\n",
              "        document.querySelector('#df-e97fa096-7a01-4455-a371-9da472dbfcbf button.colab-df-convert');\n",
              "      buttonEl.style.display =\n",
              "        google.colab.kernel.accessAllowed ? 'block' : 'none';\n",
              "\n",
              "      async function convertToInteractive(key) {\n",
              "        const element = document.querySelector('#df-e97fa096-7a01-4455-a371-9da472dbfcbf');\n",
              "        const dataTable =\n",
              "          await google.colab.kernel.invokeFunction('convertToInteractive',\n",
              "                                                    [key], {});\n",
              "        if (!dataTable) return;\n",
              "\n",
              "        const docLinkHtml = 'Like what you see? Visit the ' +\n",
              "          '<a target=\"_blank\" href=https://colab.research.google.com/notebooks/data_table.ipynb>data table notebook</a>'\n",
              "          + ' to learn more about interactive tables.';\n",
              "        element.innerHTML = '';\n",
              "        dataTable['output_type'] = 'display_data';\n",
              "        await google.colab.output.renderOutput(dataTable, element);\n",
              "        const docLink = document.createElement('div');\n",
              "        docLink.innerHTML = docLinkHtml;\n",
              "        element.appendChild(docLink);\n",
              "      }\n",
              "    </script>\n",
              "  </div>\n",
              "\n",
              "\n",
              "<div id=\"df-47b22fbd-bc0f-4249-b26a-3f6364b8b062\">\n",
              "  <button class=\"colab-df-quickchart\" onclick=\"quickchart('df-47b22fbd-bc0f-4249-b26a-3f6364b8b062')\"\n",
              "            title=\"Suggest charts\"\n",
              "            style=\"display:none;\">\n",
              "\n",
              "<svg xmlns=\"http://www.w3.org/2000/svg\" height=\"24px\"viewBox=\"0 0 24 24\"\n",
              "     width=\"24px\">\n",
              "    <g>\n",
              "        <path d=\"M19 3H5c-1.1 0-2 .9-2 2v14c0 1.1.9 2 2 2h14c1.1 0 2-.9 2-2V5c0-1.1-.9-2-2-2zM9 17H7v-7h2v7zm4 0h-2V7h2v10zm4 0h-2v-4h2v4z\"/>\n",
              "    </g>\n",
              "</svg>\n",
              "  </button>\n",
              "\n",
              "<style>\n",
              "  .colab-df-quickchart {\n",
              "      --bg-color: #E8F0FE;\n",
              "      --fill-color: #1967D2;\n",
              "      --hover-bg-color: #E2EBFA;\n",
              "      --hover-fill-color: #174EA6;\n",
              "      --disabled-fill-color: #AAA;\n",
              "      --disabled-bg-color: #DDD;\n",
              "  }\n",
              "\n",
              "  [theme=dark] .colab-df-quickchart {\n",
              "      --bg-color: #3B4455;\n",
              "      --fill-color: #D2E3FC;\n",
              "      --hover-bg-color: #434B5C;\n",
              "      --hover-fill-color: #FFFFFF;\n",
              "      --disabled-bg-color: #3B4455;\n",
              "      --disabled-fill-color: #666;\n",
              "  }\n",
              "\n",
              "  .colab-df-quickchart {\n",
              "    background-color: var(--bg-color);\n",
              "    border: none;\n",
              "    border-radius: 50%;\n",
              "    cursor: pointer;\n",
              "    display: none;\n",
              "    fill: var(--fill-color);\n",
              "    height: 32px;\n",
              "    padding: 0;\n",
              "    width: 32px;\n",
              "  }\n",
              "\n",
              "  .colab-df-quickchart:hover {\n",
              "    background-color: var(--hover-bg-color);\n",
              "    box-shadow: 0 1px 2px rgba(60, 64, 67, 0.3), 0 1px 3px 1px rgba(60, 64, 67, 0.15);\n",
              "    fill: var(--button-hover-fill-color);\n",
              "  }\n",
              "\n",
              "  .colab-df-quickchart-complete:disabled,\n",
              "  .colab-df-quickchart-complete:disabled:hover {\n",
              "    background-color: var(--disabled-bg-color);\n",
              "    fill: var(--disabled-fill-color);\n",
              "    box-shadow: none;\n",
              "  }\n",
              "\n",
              "  .colab-df-spinner {\n",
              "    border: 2px solid var(--fill-color);\n",
              "    border-color: transparent;\n",
              "    border-bottom-color: var(--fill-color);\n",
              "    animation:\n",
              "      spin 1s steps(1) infinite;\n",
              "  }\n",
              "\n",
              "  @keyframes spin {\n",
              "    0% {\n",
              "      border-color: transparent;\n",
              "      border-bottom-color: var(--fill-color);\n",
              "      border-left-color: var(--fill-color);\n",
              "    }\n",
              "    20% {\n",
              "      border-color: transparent;\n",
              "      border-left-color: var(--fill-color);\n",
              "      border-top-color: var(--fill-color);\n",
              "    }\n",
              "    30% {\n",
              "      border-color: transparent;\n",
              "      border-left-color: var(--fill-color);\n",
              "      border-top-color: var(--fill-color);\n",
              "      border-right-color: var(--fill-color);\n",
              "    }\n",
              "    40% {\n",
              "      border-color: transparent;\n",
              "      border-right-color: var(--fill-color);\n",
              "      border-top-color: var(--fill-color);\n",
              "    }\n",
              "    60% {\n",
              "      border-color: transparent;\n",
              "      border-right-color: var(--fill-color);\n",
              "    }\n",
              "    80% {\n",
              "      border-color: transparent;\n",
              "      border-right-color: var(--fill-color);\n",
              "      border-bottom-color: var(--fill-color);\n",
              "    }\n",
              "    90% {\n",
              "      border-color: transparent;\n",
              "      border-bottom-color: var(--fill-color);\n",
              "    }\n",
              "  }\n",
              "</style>\n",
              "\n",
              "  <script>\n",
              "    async function quickchart(key) {\n",
              "      const quickchartButtonEl =\n",
              "        document.querySelector('#' + key + ' button');\n",
              "      quickchartButtonEl.disabled = true;  // To prevent multiple clicks.\n",
              "      quickchartButtonEl.classList.add('colab-df-spinner');\n",
              "      try {\n",
              "        const charts = await google.colab.kernel.invokeFunction(\n",
              "            'suggestCharts', [key], {});\n",
              "      } catch (error) {\n",
              "        console.error('Error during call to suggestCharts:', error);\n",
              "      }\n",
              "      quickchartButtonEl.classList.remove('colab-df-spinner');\n",
              "      quickchartButtonEl.classList.add('colab-df-quickchart-complete');\n",
              "    }\n",
              "    (() => {\n",
              "      let quickchartButtonEl =\n",
              "        document.querySelector('#df-47b22fbd-bc0f-4249-b26a-3f6364b8b062 button');\n",
              "      quickchartButtonEl.style.display =\n",
              "        google.colab.kernel.accessAllowed ? 'block' : 'none';\n",
              "    })();\n",
              "  </script>\n",
              "</div>\n",
              "\n",
              "    </div>\n",
              "  </div>\n"
            ],
            "application/vnd.google.colaboratory.intrinsic+json": {
              "type": "dataframe",
              "summary": "{\n  \"name\": \"#Se elimina Insulina y pliegue\",\n  \"rows\": 20,\n  \"fields\": [\n    {\n      \"column\": \"nEmbarazos\",\n      \"properties\": {\n        \"dtype\": \"number\",\n        \"std\": 3.395498750508662,\n        \"min\": 1.0,\n        \"max\": 10.0,\n        \"num_unique_values\": 9,\n        \"samples\": [\n          4.0,\n          1.0,\n          10.0\n        ],\n        \"semantic_type\": \"\",\n        \"description\": \"\"\n      }\n    },\n    {\n      \"column\": \"concentracionGlucosa\",\n      \"properties\": {\n        \"dtype\": \"number\",\n        \"std\": 35.35444586053165,\n        \"min\": 78.0,\n        \"max\": 197.0,\n        \"num_unique_values\": 19,\n        \"samples\": [\n          148.0,\n          116.0,\n          168.0\n        ],\n        \"semantic_type\": \"\",\n        \"description\": \"\"\n      }\n    },\n    {\n      \"column\": \"presionArterialSistolica\",\n      \"properties\": {\n        \"dtype\": \"number\",\n        \"std\": 16.346333361922024,\n        \"min\": 30.0,\n        \"max\": 96.0,\n        \"num_unique_values\": 13,\n        \"samples\": [\n          84.0,\n          80.0,\n          72.0\n        ],\n        \"semantic_type\": \"\",\n        \"description\": \"\"\n      }\n    },\n    {\n      \"column\": \"IMC\",\n      \"properties\": {\n        \"dtype\": \"number\",\n        \"std\": 6.509102937627548,\n        \"min\": 23.3,\n        \"max\": 45.8,\n        \"num_unique_values\": 19,\n        \"samples\": [\n          33.6,\n          25.6,\n          27.1\n        ],\n        \"semantic_type\": \"\",\n        \"description\": \"\"\n      }\n    },\n    {\n      \"column\": \"funcionPediDiabe\",\n      \"properties\": {\n        \"dtype\": \"number\",\n        \"std\": 0.513690903887583,\n        \"min\": 0.134,\n        \"max\": 2.288,\n        \"num_unique_values\": 20,\n        \"samples\": [\n          0.627,\n          0.254,\n          0.484\n        ],\n        \"semantic_type\": \"\",\n        \"description\": \"\"\n      }\n    },\n    {\n      \"column\": \"edad\",\n      \"properties\": {\n        \"dtype\": \"number\",\n        \"std\": 11,\n        \"min\": 21,\n        \"max\": 59,\n        \"num_unique_values\": 14,\n        \"samples\": [\n          54,\n          57,\n          50\n        ],\n        \"semantic_type\": \"\",\n        \"description\": \"\"\n      }\n    }\n  ]\n}"
            }
          },
          "metadata": {},
          "execution_count": 20
        }
      ],
      "source": [
        "df_base_missing_dropnColumns.head(20)\n",
        "#Se elimina Insulina y pliegue"
      ]
    },
    {
      "cell_type": "markdown",
      "metadata": {
        "id": "E98GPIPeVqMN"
      },
      "source": [
        "## Reemplazar valores faltantes con la media\n",
        "## **4.3. Escriba el código que permita reemplazar valores faltantes con la media:**"
      ]
    },
    {
      "cell_type": "code",
      "execution_count": 21,
      "metadata": {
        "id": "UR7nuyPVVqMN",
        "colab": {
          "base_uri": "https://localhost:8080/"
        },
        "outputId": "c65995bc-b8d7-4c0d-844b-83d665b7d29f"
      },
      "outputs": [
        {
          "output_type": "stream",
          "name": "stdout",
          "text": [
            "     nEmbarazos  concentracionGlucosa  presionArterialSistolica  \\\n",
            "0           6.0                 148.0                      72.0   \n",
            "1           1.0                  85.0                      66.0   \n",
            "2           8.0                 183.0                      64.0   \n",
            "3           1.0                  89.0                      66.0   \n",
            "4           NaN                 137.0                      40.0   \n",
            "..          ...                   ...                       ...   \n",
            "763        10.0                 101.0                      76.0   \n",
            "764         2.0                 122.0                      70.0   \n",
            "765         5.0                 121.0                      72.0   \n",
            "766         1.0                 126.0                      60.0   \n",
            "767         1.0                  93.0                      70.0   \n",
            "\n",
            "     pliegueCutaneo  insulinaSerica   IMC  funcionPediDiabe  edad  diabetes  \n",
            "0              35.0             NaN  33.6             0.627    50       1.0  \n",
            "1              29.0             NaN  26.6             0.351    31       NaN  \n",
            "2               NaN             NaN  23.3             0.672    32       1.0  \n",
            "3              23.0            94.0  28.1             0.167    21       NaN  \n",
            "4              35.0           168.0  43.1             2.288    33       1.0  \n",
            "..              ...             ...   ...               ...   ...       ...  \n",
            "763            48.0           180.0  32.9             0.171    63       NaN  \n",
            "764            27.0             NaN  36.8             0.340    27       NaN  \n",
            "765            23.0           112.0  26.2             0.245    30       NaN  \n",
            "766             NaN             NaN  30.1             0.349    47       1.0  \n",
            "767            31.0             NaN  30.4             0.315    23       NaN  \n",
            "\n",
            "[768 rows x 9 columns]\n"
          ]
        }
      ],
      "source": [
        "df_base_missing_mean=df_base.copy()\n",
        "print(df_base_missing_mean)\n"
      ]
    },
    {
      "cell_type": "code",
      "execution_count": 22,
      "metadata": {
        "id": "aHVH52IwVqMO",
        "colab": {
          "base_uri": "https://localhost:8080/"
        },
        "outputId": "cdbcf3f4-d930-4054-da89-565c6751f7db"
      },
      "outputs": [
        {
          "output_type": "stream",
          "name": "stdout",
          "text": [
            "     nEmbarazos  concentracionGlucosa  presionArterialSistolica  \\\n",
            "0      6.000000                 148.0                      72.0   \n",
            "1      1.000000                  85.0                      66.0   \n",
            "2      8.000000                 183.0                      64.0   \n",
            "3      1.000000                  89.0                      66.0   \n",
            "4      4.494673                 137.0                      40.0   \n",
            "..          ...                   ...                       ...   \n",
            "763   10.000000                 101.0                      76.0   \n",
            "764    2.000000                 122.0                      70.0   \n",
            "765    5.000000                 121.0                      72.0   \n",
            "766    1.000000                 126.0                      60.0   \n",
            "767    1.000000                  93.0                      70.0   \n",
            "\n",
            "     pliegueCutaneo  insulinaSerica   IMC  funcionPediDiabe  edad  diabetes  \n",
            "0          35.00000      155.548223  33.6             0.627    50       1.0  \n",
            "1          29.00000      155.548223  26.6             0.351    31       1.0  \n",
            "2          29.15342      155.548223  23.3             0.672    32       1.0  \n",
            "3          23.00000       94.000000  28.1             0.167    21       1.0  \n",
            "4          35.00000      168.000000  43.1             2.288    33       1.0  \n",
            "..              ...             ...   ...               ...   ...       ...  \n",
            "763        48.00000      180.000000  32.9             0.171    63       1.0  \n",
            "764        27.00000      155.548223  36.8             0.340    27       1.0  \n",
            "765        23.00000      112.000000  26.2             0.245    30       1.0  \n",
            "766        29.15342      155.548223  30.1             0.349    47       1.0  \n",
            "767        31.00000      155.548223  30.4             0.315    23       1.0  \n",
            "\n",
            "[768 rows x 9 columns]\n"
          ]
        }
      ],
      "source": [
        "df_base_missing_mean_filled = df_base_missing_mean.fillna(df_base_missing_mean.mean())\n",
        "print(df_base_missing_mean_filled)\n"
      ]
    },
    {
      "cell_type": "markdown",
      "metadata": {
        "id": "C058uiXIVqMP"
      },
      "source": [
        "## Reemplazar valores faltantes con la moda\n",
        "## **4.4. Escriba el código que permita reemplazar valores faltantes con la moda:**"
      ]
    },
    {
      "cell_type": "code",
      "execution_count": 23,
      "metadata": {
        "id": "WCxPOfjxVqMP",
        "colab": {
          "base_uri": "https://localhost:8080/"
        },
        "outputId": "9cd5e70a-ef96-4610-f344-3a93b3905711"
      },
      "outputs": [
        {
          "output_type": "stream",
          "name": "stdout",
          "text": [
            "     nEmbarazos  concentracionGlucosa  presionArterialSistolica  \\\n",
            "0           6.0                 148.0                      72.0   \n",
            "1           1.0                  85.0                      66.0   \n",
            "2           8.0                 183.0                      64.0   \n",
            "3           1.0                  89.0                      66.0   \n",
            "4           NaN                 137.0                      40.0   \n",
            "..          ...                   ...                       ...   \n",
            "763        10.0                 101.0                      76.0   \n",
            "764         2.0                 122.0                      70.0   \n",
            "765         5.0                 121.0                      72.0   \n",
            "766         1.0                 126.0                      60.0   \n",
            "767         1.0                  93.0                      70.0   \n",
            "\n",
            "     pliegueCutaneo  insulinaSerica   IMC  funcionPediDiabe  edad  diabetes  \n",
            "0              35.0             NaN  33.6             0.627    50       1.0  \n",
            "1              29.0             NaN  26.6             0.351    31       NaN  \n",
            "2               NaN             NaN  23.3             0.672    32       1.0  \n",
            "3              23.0            94.0  28.1             0.167    21       NaN  \n",
            "4              35.0           168.0  43.1             2.288    33       1.0  \n",
            "..              ...             ...   ...               ...   ...       ...  \n",
            "763            48.0           180.0  32.9             0.171    63       NaN  \n",
            "764            27.0             NaN  36.8             0.340    27       NaN  \n",
            "765            23.0           112.0  26.2             0.245    30       NaN  \n",
            "766             NaN             NaN  30.1             0.349    47       1.0  \n",
            "767            31.0             NaN  30.4             0.315    23       NaN  \n",
            "\n",
            "[768 rows x 9 columns]\n"
          ]
        }
      ],
      "source": [
        "df_base_missing_mode=df_base.copy()\n",
        "print(df_base_missing_mode)\n"
      ]
    },
    {
      "cell_type": "code",
      "source": [
        "df_base_missing_mode_filled = df_base_missing_mode.fillna(df_base_missing_mode.mode())\n",
        "print(df_base_missing_mode_filled)"
      ],
      "metadata": {
        "colab": {
          "base_uri": "https://localhost:8080/"
        },
        "id": "LZzRluvLuPYb",
        "outputId": "f2ca06fe-ef37-464c-cb29-ccc31c854afd"
      },
      "execution_count": 24,
      "outputs": [
        {
          "output_type": "stream",
          "name": "stdout",
          "text": [
            "     nEmbarazos  concentracionGlucosa  presionArterialSistolica  \\\n",
            "0           6.0                 148.0                      72.0   \n",
            "1           1.0                  85.0                      66.0   \n",
            "2           8.0                 183.0                      64.0   \n",
            "3           1.0                  89.0                      66.0   \n",
            "4           NaN                 137.0                      40.0   \n",
            "..          ...                   ...                       ...   \n",
            "763        10.0                 101.0                      76.0   \n",
            "764         2.0                 122.0                      70.0   \n",
            "765         5.0                 121.0                      72.0   \n",
            "766         1.0                 126.0                      60.0   \n",
            "767         1.0                  93.0                      70.0   \n",
            "\n",
            "     pliegueCutaneo  insulinaSerica   IMC  funcionPediDiabe  edad  diabetes  \n",
            "0              35.0           105.0  33.6             0.627    50       1.0  \n",
            "1              29.0             NaN  26.6             0.351    31       NaN  \n",
            "2               NaN             NaN  23.3             0.672    32       1.0  \n",
            "3              23.0            94.0  28.1             0.167    21       NaN  \n",
            "4              35.0           168.0  43.1             2.288    33       1.0  \n",
            "..              ...             ...   ...               ...   ...       ...  \n",
            "763            48.0           180.0  32.9             0.171    63       NaN  \n",
            "764            27.0             NaN  36.8             0.340    27       NaN  \n",
            "765            23.0           112.0  26.2             0.245    30       NaN  \n",
            "766             NaN             NaN  30.1             0.349    47       1.0  \n",
            "767            31.0             NaN  30.4             0.315    23       NaN  \n",
            "\n",
            "[768 rows x 9 columns]\n"
          ]
        }
      ]
    },
    {
      "cell_type": "markdown",
      "metadata": {
        "id": "1feEZIROVqMP"
      },
      "source": [
        "## Reemplazar valores faltantes con una función de interpolación, usando método lineal\n",
        "## **4.5. Escriba el código que permita reemplazar valores faltantes utilizando interpolación lineal:**"
      ]
    },
    {
      "cell_type": "code",
      "execution_count": 25,
      "metadata": {
        "id": "T_wrWFfrVqMP",
        "colab": {
          "base_uri": "https://localhost:8080/"
        },
        "outputId": "0c636347-6ea8-4386-a4d6-e42c92c8efb6"
      },
      "outputs": [
        {
          "output_type": "stream",
          "name": "stdout",
          "text": [
            "     nEmbarazos  concentracionGlucosa  presionArterialSistolica  \\\n",
            "0           6.0                 148.0                      72.0   \n",
            "1           1.0                  85.0                      66.0   \n",
            "2           8.0                 183.0                      64.0   \n",
            "3           1.0                  89.0                      66.0   \n",
            "4           3.0                 137.0                      40.0   \n",
            "..          ...                   ...                       ...   \n",
            "763        10.0                 101.0                      76.0   \n",
            "764         2.0                 122.0                      70.0   \n",
            "765         5.0                 121.0                      72.0   \n",
            "766         1.0                 126.0                      60.0   \n",
            "767         1.0                  93.0                      70.0   \n",
            "\n",
            "     pliegueCutaneo  insulinaSerica   IMC  funcionPediDiabe  edad  diabetes  \n",
            "0              35.0             NaN  33.6             0.627    50       1.0  \n",
            "1              29.0             NaN  26.6             0.351    31       1.0  \n",
            "2              26.0             NaN  23.3             0.672    32       1.0  \n",
            "3              23.0            94.0  28.1             0.167    21       1.0  \n",
            "4              35.0           168.0  43.1             2.288    33       1.0  \n",
            "..              ...             ...   ...               ...   ...       ...  \n",
            "763            48.0           180.0  32.9             0.171    63       1.0  \n",
            "764            27.0           146.0  36.8             0.340    27       1.0  \n",
            "765            23.0           112.0  26.2             0.245    30       1.0  \n",
            "766            27.0           112.0  30.1             0.349    47       1.0  \n",
            "767            31.0           112.0  30.4             0.315    23       1.0  \n",
            "\n",
            "[768 rows x 9 columns]\n"
          ]
        }
      ],
      "source": [
        "df_base_missing_interpo=df_base.copy()\n",
        "df_base_missing_interpo=df_base_missing_interpo.interpolate(method='linear', limit_direction='forward', axis=0)\n",
        "print(df_base_missing_interpo)"
      ]
    },
    {
      "cell_type": "markdown",
      "metadata": {
        "id": "YrHKZEmQVqMP"
      },
      "source": [
        "# 5.- Hallar todas las correlaciones existentes entre las variables numéricas del conjunto de datos.\n",
        "\n",
        "## **5.1. Escriba el código que permita calcular las correlaciones entre las variables del dataset:**\n",
        "\n",
        "\n",
        "\n",
        "## **5.2. Dibuje un mapa de calor donde se puedan ver las correlaciones:**"
      ]
    },
    {
      "cell_type": "code",
      "source": [
        "corr= df_base.corr()\n",
        "print (corr)"
      ],
      "metadata": {
        "colab": {
          "base_uri": "https://localhost:8080/"
        },
        "id": "7AOVOHhMf8KE",
        "outputId": "182d4cca-7e41-4c03-ffe9-c93a2403c7dd"
      },
      "execution_count": 26,
      "outputs": [
        {
          "output_type": "stream",
          "name": "stdout",
          "text": [
            "                          nEmbarazos  concentracionGlucosa  \\\n",
            "nEmbarazos                  1.000000              0.166329   \n",
            "concentracionGlucosa        0.166329              1.000000   \n",
            "presionArterialSistolica    0.285013              0.223192   \n",
            "pliegueCutaneo              0.167298              0.228043   \n",
            "insulinaSerica              0.104081              0.581186   \n",
            "IMC                         0.128207              0.232771   \n",
            "funcionPediDiabe           -0.006459              0.137246   \n",
            "edad                        0.550525              0.267136   \n",
            "diabetes                         NaN                   NaN   \n",
            "\n",
            "                          presionArterialSistolica  pliegueCutaneo  \\\n",
            "nEmbarazos                                0.285013        0.167298   \n",
            "concentracionGlucosa                      0.223192        0.228043   \n",
            "presionArterialSistolica                  1.000000        0.226839   \n",
            "pliegueCutaneo                            0.226839        1.000000   \n",
            "insulinaSerica                            0.098272        0.184888   \n",
            "IMC                                       0.289230        0.648214   \n",
            "funcionPediDiabe                         -0.002805        0.115016   \n",
            "edad                                      0.330107        0.166816   \n",
            "diabetes                                       NaN             NaN   \n",
            "\n",
            "                          insulinaSerica       IMC  funcionPediDiabe  \\\n",
            "nEmbarazos                      0.104081  0.128207         -0.006459   \n",
            "concentracionGlucosa            0.581186  0.232771          0.137246   \n",
            "presionArterialSistolica        0.098272  0.289230         -0.002805   \n",
            "pliegueCutaneo                  0.184888  0.648214          0.115016   \n",
            "insulinaSerica                  1.000000  0.228050          0.130395   \n",
            "IMC                             0.228050  1.000000          0.155382   \n",
            "funcionPediDiabe                0.130395  0.155382          1.000000   \n",
            "edad                            0.220261  0.025841          0.033561   \n",
            "diabetes                             NaN       NaN               NaN   \n",
            "\n",
            "                              edad  diabetes  \n",
            "nEmbarazos                0.550525       NaN  \n",
            "concentracionGlucosa      0.267136       NaN  \n",
            "presionArterialSistolica  0.330107       NaN  \n",
            "pliegueCutaneo            0.166816       NaN  \n",
            "insulinaSerica            0.220261       NaN  \n",
            "IMC                       0.025841       NaN  \n",
            "funcionPediDiabe          0.033561       NaN  \n",
            "edad                      1.000000       NaN  \n",
            "diabetes                       NaN       NaN  \n"
          ]
        }
      ]
    },
    {
      "cell_type": "code",
      "source": [
        "sns.heatmap(corr)"
      ],
      "metadata": {
        "colab": {
          "base_uri": "https://localhost:8080/",
          "height": 560
        },
        "id": "VxLiC2IafzMX",
        "outputId": "7d6b1f11-36b8-4a85-801c-a3cfcaaf6f32"
      },
      "execution_count": 27,
      "outputs": [
        {
          "output_type": "execute_result",
          "data": {
            "text/plain": [
              "<Axes: >"
            ]
          },
          "metadata": {},
          "execution_count": 27
        },
        {
          "output_type": "display_data",
          "data": {
            "text/plain": [
              "<Figure size 2000x1000 with 2 Axes>"
            ],
            "image/png": "[encoded data removed]"
          },
          "metadata": {}
        }
      ]
    },
    {
      "cell_type": "code",
      "execution_count": null,
      "metadata": {
        "id": "oD_ZYwJoVqMP"
      },
      "outputs": [],
      "source": []
    },
    {
      "cell_type": "markdown",
      "metadata": {
        "id": "_Rb4fFSoVqMP"
      },
      "source": [
        "# 6.- Aplicar Árboles de Decisión y Random Forest al dataframe donde se eliminaron todas las filas con valores faltantes"
      ]
    },
    {
      "cell_type": "markdown",
      "metadata": {
        "id": "PhAE-8jbVqMQ"
      },
      "source": [
        "### Determinar el conjunto de modelización y el de validación\n",
        "* Se segmenta los datos en dos conjuntos uno de entrenamiento con el 80% y de prueba 20% del total de datos respectivamente."
      ]
    },
    {
      "cell_type": "code",
      "execution_count": 34,
      "metadata": {
        "id": "cmLstSyuVqMQ"
      },
      "outputs": [],
      "source": [
        "X = df_base_missing_dropn.drop(columns = ['diabetes']).copy()\n",
        "y = df_base_missing_dropn['diabetes']\n",
        "\n",
        "# In the first step we will split the data in training and remaining dataset\n",
        "train_x,test_x,train_y,test_y = train_test_split(X,y, train_size=0.8, random_state=semilla_aleatoria)\n"
      ]
    },
    {
      "cell_type": "markdown",
      "metadata": {
        "id": "pMQvNswYVqMQ"
      },
      "source": [
        "## 6.1. Pasos para aplicar árboles\n",
        "## **Escriba el código que permite entrenar un árbol de decisión con el dataset donde se eliminaron las filas con valores faltantes:**"
      ]
    },
    {
      "cell_type": "code",
      "execution_count": 35,
      "metadata": {
        "id": "TuXiwXykVqMQ"
      },
      "outputs": [],
      "source": [
        "from sklearn.tree import DecisionTreeClassifier\n",
        "from sklearn.model_selection import cross_val_score\n",
        "\n",
        "#df_base_missing_dropnColumns"
      ]
    },
    {
      "cell_type": "code",
      "source": [
        "dt_healthy = DecisionTreeClassifier(random_state=111) # , splitter=\"random\")"
      ],
      "metadata": {
        "id": "Kba5AEJVLThn"
      },
      "execution_count": 51,
      "outputs": []
    },
    {
      "cell_type": "code",
      "source": [
        "dt_healthy.fit(train_x,train_y)\n",
        "scores_healthy = cross_val_score(dt_healthy, train_x, train_y, cv=5)"
      ],
      "metadata": {
        "id": "fqykuvN_LXSZ"
      },
      "execution_count": 52,
      "outputs": []
    },
    {
      "cell_type": "code",
      "source": [
        "print(scores_healthy)\n",
        "print(\"%0.2f accuracy con una desviación estandar de %0.2f\" % (scores_healthy.mean(), scores_healthy.std()))"
      ],
      "metadata": {
        "colab": {
          "base_uri": "https://localhost:8080/"
        },
        "id": "N0Ecsw9iLcPW",
        "outputId": "0d826f15-741a-41b5-9811-8c406017225c"
      },
      "execution_count": 53,
      "outputs": [
        {
          "output_type": "stream",
          "name": "stdout",
          "text": [
            "[1. 1. 1. 1. 1.]\n",
            "1.00 accuracy con una desviación estandar de 0.00\n"
          ]
        }
      ]
    },
    {
      "cell_type": "code",
      "source": [
        "print(f'La profundidad del árbol es {dt_healthy.get_depth()}')\n",
        "print(f'El número de hojas del árbol es {dt_healthy.get_n_leaves()}')"
      ],
      "metadata": {
        "colab": {
          "base_uri": "https://localhost:8080/"
        },
        "id": "FR-h9rG7iPkM",
        "outputId": "202ec19e-e8f0-4875-9e15-4f8824a8bc89"
      },
      "execution_count": 54,
      "outputs": [
        {
          "output_type": "stream",
          "name": "stdout",
          "text": [
            "La profundidad del árbol es 0\n",
            "El número de hojas del árbol es 1\n"
          ]
        }
      ]
    },
    {
      "cell_type": "markdown",
      "metadata": {
        "id": "ojjzOf3vVqMQ"
      },
      "source": [
        "## **6.2. Escriba el código que permita predecir la diabetes en el conjunto de datos de test:**"
      ]
    },
    {
      "cell_type": "code",
      "execution_count": null,
      "metadata": {
        "id": "IJXJg3LgVqMQ"
      },
      "outputs": [],
      "source": [
        "predEY_clas_arb="
      ]
    },
    {
      "cell_type": "markdown",
      "metadata": {
        "id": "w2OuqxqdVqMQ"
      },
      "source": [
        "### MÉTRICAS.\n",
        "## **6.3. Utilice la función classification_report para poder ver la precisión, recall y f1 tanto para la case 0 como para la clase 1:**"
      ]
    },
    {
      "cell_type": "code",
      "execution_count": null,
      "metadata": {
        "id": "gC7pE9qWVqMR"
      },
      "outputs": [],
      "source": [
        "clas_report=\n",
        "print(clas_report)"
      ]
    },
    {
      "cell_type": "markdown",
      "metadata": {
        "id": "fC0KggZWVqMR"
      },
      "source": [
        "## 7. Pasos método Clasificación Random Forest\n",
        "### Escriba el código que permita entrenar un algoritmo de Random Forest con la función RandomForestClassifier con 100 árboles y que se puedan entrenar 2 árboles en paralelo (n_jobs) y la semilla sea aleatoria."
      ]
    },
    {
      "cell_type": "code",
      "execution_count": null,
      "metadata": {
        "id": "HPXI_ZXUVqMR",
        "outputId": "f6f3c2b7-bf1f-4612-c82f-37f0e50ff46e"
      },
      "outputs": [
        {
          "data": {
            "text/plain": [
              "RandomForestClassifier(n_jobs=2, random_state=1234)"
            ]
          },
          "execution_count": 40,
          "metadata": {},
          "output_type": "execute_result"
        }
      ],
      "source": [
        "clas_rndforest =\n",
        "clas_rndforest.fit(train_x,train_y)"
      ]
    },
    {
      "cell_type": "markdown",
      "metadata": {
        "id": "2kC8wCWoVqMR"
      },
      "source": [
        "### Predicción del modelo."
      ]
    },
    {
      "cell_type": "code",
      "execution_count": null,
      "metadata": {
        "id": "JMuiVVA0VqMR"
      },
      "outputs": [],
      "source": [
        "predEY_clas_rnd=clas_rndforest.predict(test_x)"
      ]
    },
    {
      "cell_type": "markdown",
      "metadata": {
        "id": "TyX86xefVqMR"
      },
      "source": [
        "### MÉTRICAS.\n",
        "## **7.1. Utilice la función classification_report para poder ver la precisión, recall y f1 tanto para la case 0 como para la clase 1:**"
      ]
    },
    {
      "cell_type": "markdown",
      "metadata": {
        "id": "DMslj3kTVqMS"
      },
      "source": [
        "## 8. Aplicar Árboles de decisión con el dataframe a los que se les imputa valores con una función de interpolación"
      ]
    },
    {
      "cell_type": "code",
      "execution_count": null,
      "metadata": {
        "id": "RNRroI_IVqMS"
      },
      "outputs": [],
      "source": [
        "X = df_base_missing_interpo.drop(columns = ['diabetes']).copy()\n",
        "y = df_base_missing_interpo['diabetes']"
      ]
    },
    {
      "cell_type": "code",
      "execution_count": null,
      "metadata": {
        "id": "X9tKKTLxVqMS"
      },
      "outputs": [],
      "source": [
        "# In the first step we will split the data in training and remaining dataset\n",
        "train_x,test_x,train_y,test_y = train_test_split(X,y, train_size=0.8, random_state=semilla_aleatoria)"
      ]
    },
    {
      "cell_type": "markdown",
      "metadata": {
        "id": "ivT14da7VqMS"
      },
      "source": [
        "## 8.1. Pasos para aplicar árboles\n",
        "### Escriba el código que permita entrenar un algoritmo de árboles de decisión con la función DecisionTreeClassifier."
      ]
    },
    {
      "cell_type": "code",
      "execution_count": null,
      "metadata": {
        "id": "Ia1GtAzzVqMS"
      },
      "outputs": [],
      "source": [
        "clas_arboles ="
      ]
    },
    {
      "cell_type": "markdown",
      "metadata": {
        "id": "PdyrRExgVqMS"
      },
      "source": [
        "### Predicción del modelo."
      ]
    },
    {
      "cell_type": "code",
      "execution_count": null,
      "metadata": {
        "id": "st_YLQj_VqMT"
      },
      "outputs": [],
      "source": [
        "predEY_clas_arb=clas_arboles.predict(test_x)"
      ]
    },
    {
      "cell_type": "markdown",
      "metadata": {
        "id": "hCMV1S1zVqMT"
      },
      "source": [
        "### MÉTRICAS.\n",
        "## **8.2. Utilice la función classification_report para poder ver la precisión, recall y f1 tanto para la case 0 como para la clase 1:**"
      ]
    },
    {
      "cell_type": "code",
      "execution_count": null,
      "metadata": {
        "id": "-Vxet5mdVqMT"
      },
      "outputs": [],
      "source": [
        "display(confusion_matrix(test_y,predEY_clas_arb))\n",
        "class_report=\n",
        "print(class_report)"
      ]
    },
    {
      "cell_type": "markdown",
      "metadata": {
        "id": "zFaxxXx2VqMT"
      },
      "source": [
        "## 9. Aplicar Random Forest con el dataframe a los que se les imputa valores con una función de interpolación\n",
        "### 9.1. Escriba el código que permita entrenar un algoritmo de Random Forest con la función RandomForestClassifier con 100 árboles y que se puedan entrenar 2 árboles en paralelo (n_jobs) y la semilla sea aleatoria."
      ]
    },
    {
      "cell_type": "code",
      "execution_count": null,
      "metadata": {
        "id": "25jvoAUOVqMT"
      },
      "outputs": [],
      "source": [
        "clas_rndforest ="
      ]
    },
    {
      "cell_type": "markdown",
      "metadata": {
        "id": "EjaM__QhVqMU"
      },
      "source": [
        "### Predicción del modelo."
      ]
    },
    {
      "cell_type": "code",
      "execution_count": null,
      "metadata": {
        "id": "sY7o_vTZVqMU"
      },
      "outputs": [],
      "source": [
        "predEY_clas_rnd=clas_rndforest.predict(test_x)"
      ]
    },
    {
      "cell_type": "markdown",
      "metadata": {
        "id": "fUJYxd04VqMU"
      },
      "source": [
        "### MÉTRICAS.\n",
        "## **9.2. Utilice la función classification_report para poder ver la precisión, recall y f1 tanto para la case 0 como para la clase 1:**"
      ]
    }
  ],
  "metadata": {
    "kernelspec": {
      "display_name": "Python 3",
      "language": "python",
      "name": "python3"
    },
    "language_info": {
      "codemirror_mode": {
        "name": "ipython",
        "version": 3
      },
      "file_extension": ".py",
      "mimetype": "text/x-python",
      "name": "python",
      "nbconvert_exporter": "python",
      "pygments_lexer": "ipython3",
      "version": "3.8.8"
    },
    "colab": {
      "provenance": []
    }
  },
  "nbformat": 4,
  "nbformat_minor": 0
}